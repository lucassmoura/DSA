{
 "cells": [
  {
   "cell_type": "markdown",
   "metadata": {},
   "source": [
    "# <font color='blue'>Data Science Academy</font>\n",
    "\n",
    "## <font color='blue'>Fundamentos de Linguagem Python Para Análise de Dados e Data Science</font>\n",
    "\n",
    "## <font color='blue'>Capítulo 6 - Pacotes e Módulos</font>"
   ]
  },
  {
   "cell_type": "code",
   "execution_count": 78,
   "metadata": {},
   "outputs": [
    {
     "name": "stdout",
     "output_type": "stream",
     "text": [
      "Versão da Linguagem Python Usada Neste Jupyter Notebook: 3.12.6\n"
     ]
    }
   ],
   "source": [
    "# Versão da Linguagem Python\n",
    "from platform import python_version\n",
    "print('Versão da Linguagem Python Usada Neste Jupyter Notebook:', python_version())"
   ]
  },
  {
   "cell_type": "markdown",
   "metadata": {},
   "source": [
    "## Pacotes e Módulos\n",
    "\n",
    "Em Python, um módulo é um arquivo (script) que contém código Python e pode ser importado em outros arquivos Python. Ele é usado para compartilhar funções, classes e variáveis entre arquivos.\n",
    "\n",
    "Já um pacote é uma coleção de módulos organizados em uma estrutura de diretórios. Ele permite a divisão de um aplicativo em múltiplos módulos, o que facilita a manutenção e o desenvolvimento.\n",
    "\n",
    "Visite o PyPi, repositório de pacotes da Linguagem Python: https://pypi.org/"
   ]
  },
  {
   "cell_type": "code",
   "execution_count": 79,
   "metadata": {},
   "outputs": [],
   "source": [
    "# Importando um pacote Python\n",
    "import numpy"
   ]
  },
  {
   "cell_type": "code",
   "execution_count": 80,
   "metadata": {},
   "outputs": [
    {
     "data": {
      "text/plain": [
       "['False_',\n",
       " 'ScalarType',\n",
       " 'True_',\n",
       " '_CopyMode',\n",
       " '_NoValue',\n",
       " '__NUMPY_SETUP__',\n",
       " '__all__',\n",
       " '__array_api_version__',\n",
       " '__array_namespace_info__',\n",
       " '__builtins__',\n",
       " '__cached__',\n",
       " '__config__',\n",
       " '__dir__',\n",
       " '__doc__',\n",
       " '__expired_attributes__',\n",
       " '__file__',\n",
       " '__former_attrs__',\n",
       " '__future_scalars__',\n",
       " '__getattr__',\n",
       " '__loader__',\n",
       " '__name__',\n",
       " '__numpy_submodules__',\n",
       " '__package__',\n",
       " '__path__',\n",
       " '__spec__',\n",
       " '__version__',\n",
       " '_array_api_info',\n",
       " '_core',\n",
       " '_distributor_init',\n",
       " '_expired_attrs_2_0',\n",
       " '_get_promotion_state',\n",
       " '_globals',\n",
       " '_int_extended_msg',\n",
       " '_mat',\n",
       " '_msg',\n",
       " '_no_nep50_warning',\n",
       " '_pyinstaller_hooks_dir',\n",
       " '_pytesttester',\n",
       " '_set_promotion_state',\n",
       " '_specific_msg',\n",
       " '_type_info',\n",
       " '_typing',\n",
       " '_utils',\n",
       " 'abs',\n",
       " 'absolute',\n",
       " 'acos',\n",
       " 'acosh',\n",
       " 'add',\n",
       " 'all',\n",
       " 'allclose',\n",
       " 'amax',\n",
       " 'amin',\n",
       " 'angle',\n",
       " 'any',\n",
       " 'append',\n",
       " 'apply_along_axis',\n",
       " 'apply_over_axes',\n",
       " 'arange',\n",
       " 'arccos',\n",
       " 'arccosh',\n",
       " 'arcsin',\n",
       " 'arcsinh',\n",
       " 'arctan',\n",
       " 'arctan2',\n",
       " 'arctanh',\n",
       " 'argmax',\n",
       " 'argmin',\n",
       " 'argpartition',\n",
       " 'argsort',\n",
       " 'argwhere',\n",
       " 'around',\n",
       " 'array',\n",
       " 'array2string',\n",
       " 'array_equal',\n",
       " 'array_equiv',\n",
       " 'array_repr',\n",
       " 'array_split',\n",
       " 'array_str',\n",
       " 'asanyarray',\n",
       " 'asarray',\n",
       " 'asarray_chkfinite',\n",
       " 'ascontiguousarray',\n",
       " 'asfortranarray',\n",
       " 'asin',\n",
       " 'asinh',\n",
       " 'asmatrix',\n",
       " 'astype',\n",
       " 'atan',\n",
       " 'atan2',\n",
       " 'atanh',\n",
       " 'atleast_1d',\n",
       " 'atleast_2d',\n",
       " 'atleast_3d',\n",
       " 'average',\n",
       " 'bartlett',\n",
       " 'base_repr',\n",
       " 'binary_repr',\n",
       " 'bincount',\n",
       " 'bitwise_and',\n",
       " 'bitwise_count',\n",
       " 'bitwise_invert',\n",
       " 'bitwise_left_shift',\n",
       " 'bitwise_not',\n",
       " 'bitwise_or',\n",
       " 'bitwise_right_shift',\n",
       " 'bitwise_xor',\n",
       " 'blackman',\n",
       " 'block',\n",
       " 'bmat',\n",
       " 'bool',\n",
       " 'bool_',\n",
       " 'broadcast',\n",
       " 'broadcast_arrays',\n",
       " 'broadcast_shapes',\n",
       " 'broadcast_to',\n",
       " 'busday_count',\n",
       " 'busday_offset',\n",
       " 'busdaycalendar',\n",
       " 'byte',\n",
       " 'bytes_',\n",
       " 'c_',\n",
       " 'can_cast',\n",
       " 'cbrt',\n",
       " 'cdouble',\n",
       " 'ceil',\n",
       " 'char',\n",
       " 'character',\n",
       " 'choose',\n",
       " 'clip',\n",
       " 'clongdouble',\n",
       " 'column_stack',\n",
       " 'common_type',\n",
       " 'complex128',\n",
       " 'complex64',\n",
       " 'complexfloating',\n",
       " 'compress',\n",
       " 'concat',\n",
       " 'concatenate',\n",
       " 'conj',\n",
       " 'conjugate',\n",
       " 'convolve',\n",
       " 'copy',\n",
       " 'copysign',\n",
       " 'copyto',\n",
       " 'core',\n",
       " 'corrcoef',\n",
       " 'correlate',\n",
       " 'cos',\n",
       " 'cosh',\n",
       " 'count_nonzero',\n",
       " 'cov',\n",
       " 'cross',\n",
       " 'csingle',\n",
       " 'ctypeslib',\n",
       " 'cumprod',\n",
       " 'cumsum',\n",
       " 'cumulative_prod',\n",
       " 'cumulative_sum',\n",
       " 'datetime64',\n",
       " 'datetime_as_string',\n",
       " 'datetime_data',\n",
       " 'deg2rad',\n",
       " 'degrees',\n",
       " 'delete',\n",
       " 'diag',\n",
       " 'diag_indices',\n",
       " 'diag_indices_from',\n",
       " 'diagflat',\n",
       " 'diagonal',\n",
       " 'diff',\n",
       " 'digitize',\n",
       " 'divide',\n",
       " 'divmod',\n",
       " 'dot',\n",
       " 'double',\n",
       " 'dsplit',\n",
       " 'dstack',\n",
       " 'dtype',\n",
       " 'dtypes',\n",
       " 'e',\n",
       " 'ediff1d',\n",
       " 'einsum',\n",
       " 'einsum_path',\n",
       " 'emath',\n",
       " 'empty',\n",
       " 'empty_like',\n",
       " 'equal',\n",
       " 'errstate',\n",
       " 'euler_gamma',\n",
       " 'exceptions',\n",
       " 'exp',\n",
       " 'exp2',\n",
       " 'expand_dims',\n",
       " 'expm1',\n",
       " 'extract',\n",
       " 'eye',\n",
       " 'f2py',\n",
       " 'fabs',\n",
       " 'fft',\n",
       " 'fill_diagonal',\n",
       " 'finfo',\n",
       " 'fix',\n",
       " 'flatiter',\n",
       " 'flatnonzero',\n",
       " 'flexible',\n",
       " 'flip',\n",
       " 'fliplr',\n",
       " 'flipud',\n",
       " 'float16',\n",
       " 'float32',\n",
       " 'float64',\n",
       " 'float_power',\n",
       " 'floating',\n",
       " 'floor',\n",
       " 'floor_divide',\n",
       " 'fmax',\n",
       " 'fmin',\n",
       " 'fmod',\n",
       " 'format_float_positional',\n",
       " 'format_float_scientific',\n",
       " 'frexp',\n",
       " 'from_dlpack',\n",
       " 'frombuffer',\n",
       " 'fromfile',\n",
       " 'fromfunction',\n",
       " 'fromiter',\n",
       " 'frompyfunc',\n",
       " 'fromregex',\n",
       " 'fromstring',\n",
       " 'full',\n",
       " 'full_like',\n",
       " 'gcd',\n",
       " 'generic',\n",
       " 'genfromtxt',\n",
       " 'geomspace',\n",
       " 'get_include',\n",
       " 'get_printoptions',\n",
       " 'getbufsize',\n",
       " 'geterr',\n",
       " 'geterrcall',\n",
       " 'gradient',\n",
       " 'greater',\n",
       " 'greater_equal',\n",
       " 'half',\n",
       " 'hamming',\n",
       " 'hanning',\n",
       " 'heaviside',\n",
       " 'histogram',\n",
       " 'histogram2d',\n",
       " 'histogram_bin_edges',\n",
       " 'histogramdd',\n",
       " 'hsplit',\n",
       " 'hstack',\n",
       " 'hypot',\n",
       " 'i0',\n",
       " 'identity',\n",
       " 'iinfo',\n",
       " 'imag',\n",
       " 'in1d',\n",
       " 'index_exp',\n",
       " 'indices',\n",
       " 'inexact',\n",
       " 'inf',\n",
       " 'info',\n",
       " 'inner',\n",
       " 'insert',\n",
       " 'int16',\n",
       " 'int32',\n",
       " 'int64',\n",
       " 'int8',\n",
       " 'int_',\n",
       " 'intc',\n",
       " 'integer',\n",
       " 'interp',\n",
       " 'intersect1d',\n",
       " 'intp',\n",
       " 'invert',\n",
       " 'is_busday',\n",
       " 'isclose',\n",
       " 'iscomplex',\n",
       " 'iscomplexobj',\n",
       " 'isdtype',\n",
       " 'isfinite',\n",
       " 'isfortran',\n",
       " 'isin',\n",
       " 'isinf',\n",
       " 'isnan',\n",
       " 'isnat',\n",
       " 'isneginf',\n",
       " 'isposinf',\n",
       " 'isreal',\n",
       " 'isrealobj',\n",
       " 'isscalar',\n",
       " 'issubdtype',\n",
       " 'iterable',\n",
       " 'ix_',\n",
       " 'kaiser',\n",
       " 'kron',\n",
       " 'lcm',\n",
       " 'ldexp',\n",
       " 'left_shift',\n",
       " 'less',\n",
       " 'less_equal',\n",
       " 'lexsort',\n",
       " 'lib',\n",
       " 'linalg',\n",
       " 'linspace',\n",
       " 'little_endian',\n",
       " 'load',\n",
       " 'loadtxt',\n",
       " 'log',\n",
       " 'log10',\n",
       " 'log1p',\n",
       " 'log2',\n",
       " 'logaddexp',\n",
       " 'logaddexp2',\n",
       " 'logical_and',\n",
       " 'logical_not',\n",
       " 'logical_or',\n",
       " 'logical_xor',\n",
       " 'logspace',\n",
       " 'long',\n",
       " 'longdouble',\n",
       " 'longlong',\n",
       " 'ma',\n",
       " 'mask_indices',\n",
       " 'matmul',\n",
       " 'matrix',\n",
       " 'matrix_transpose',\n",
       " 'max',\n",
       " 'maximum',\n",
       " 'may_share_memory',\n",
       " 'mean',\n",
       " 'median',\n",
       " 'memmap',\n",
       " 'meshgrid',\n",
       " 'mgrid',\n",
       " 'min',\n",
       " 'min_scalar_type',\n",
       " 'minimum',\n",
       " 'mintypecode',\n",
       " 'mod',\n",
       " 'modf',\n",
       " 'moveaxis',\n",
       " 'multiply',\n",
       " 'nan',\n",
       " 'nan_to_num',\n",
       " 'nanargmax',\n",
       " 'nanargmin',\n",
       " 'nancumprod',\n",
       " 'nancumsum',\n",
       " 'nanmax',\n",
       " 'nanmean',\n",
       " 'nanmedian',\n",
       " 'nanmin',\n",
       " 'nanpercentile',\n",
       " 'nanprod',\n",
       " 'nanquantile',\n",
       " 'nanstd',\n",
       " 'nansum',\n",
       " 'nanvar',\n",
       " 'ndarray',\n",
       " 'ndenumerate',\n",
       " 'ndim',\n",
       " 'ndindex',\n",
       " 'nditer',\n",
       " 'negative',\n",
       " 'nested_iters',\n",
       " 'newaxis',\n",
       " 'nextafter',\n",
       " 'nonzero',\n",
       " 'not_equal',\n",
       " 'number',\n",
       " 'object_',\n",
       " 'ogrid',\n",
       " 'ones',\n",
       " 'ones_like',\n",
       " 'outer',\n",
       " 'packbits',\n",
       " 'pad',\n",
       " 'partition',\n",
       " 'percentile',\n",
       " 'permute_dims',\n",
       " 'pi',\n",
       " 'piecewise',\n",
       " 'place',\n",
       " 'poly',\n",
       " 'poly1d',\n",
       " 'polyadd',\n",
       " 'polyder',\n",
       " 'polydiv',\n",
       " 'polyfit',\n",
       " 'polyint',\n",
       " 'polymul',\n",
       " 'polynomial',\n",
       " 'polysub',\n",
       " 'polyval',\n",
       " 'positive',\n",
       " 'pow',\n",
       " 'power',\n",
       " 'printoptions',\n",
       " 'prod',\n",
       " 'promote_types',\n",
       " 'ptp',\n",
       " 'put',\n",
       " 'put_along_axis',\n",
       " 'putmask',\n",
       " 'quantile',\n",
       " 'r_',\n",
       " 'rad2deg',\n",
       " 'radians',\n",
       " 'random',\n",
       " 'ravel',\n",
       " 'ravel_multi_index',\n",
       " 'real',\n",
       " 'real_if_close',\n",
       " 'rec',\n",
       " 'recarray',\n",
       " 'reciprocal',\n",
       " 'record',\n",
       " 'remainder',\n",
       " 'repeat',\n",
       " 'require',\n",
       " 'reshape',\n",
       " 'resize',\n",
       " 'result_type',\n",
       " 'right_shift',\n",
       " 'rint',\n",
       " 'roll',\n",
       " 'rollaxis',\n",
       " 'roots',\n",
       " 'rot90',\n",
       " 'round',\n",
       " 'row_stack',\n",
       " 's_',\n",
       " 'save',\n",
       " 'savetxt',\n",
       " 'savez',\n",
       " 'savez_compressed',\n",
       " 'sctypeDict',\n",
       " 'searchsorted',\n",
       " 'select',\n",
       " 'set_printoptions',\n",
       " 'setbufsize',\n",
       " 'setdiff1d',\n",
       " 'seterr',\n",
       " 'seterrcall',\n",
       " 'setxor1d',\n",
       " 'shape',\n",
       " 'shares_memory',\n",
       " 'short',\n",
       " 'show_config',\n",
       " 'show_runtime',\n",
       " 'sign',\n",
       " 'signbit',\n",
       " 'signedinteger',\n",
       " 'sin',\n",
       " 'sinc',\n",
       " 'single',\n",
       " 'sinh',\n",
       " 'size',\n",
       " 'sort',\n",
       " 'sort_complex',\n",
       " 'spacing',\n",
       " 'split',\n",
       " 'sqrt',\n",
       " 'square',\n",
       " 'squeeze',\n",
       " 'stack',\n",
       " 'std',\n",
       " 'str_',\n",
       " 'strings',\n",
       " 'subtract',\n",
       " 'sum',\n",
       " 'swapaxes',\n",
       " 'take',\n",
       " 'take_along_axis',\n",
       " 'tan',\n",
       " 'tanh',\n",
       " 'tensordot',\n",
       " 'test',\n",
       " 'testing',\n",
       " 'tile',\n",
       " 'timedelta64',\n",
       " 'trace',\n",
       " 'transpose',\n",
       " 'trapezoid',\n",
       " 'trapz',\n",
       " 'tri',\n",
       " 'tril',\n",
       " 'tril_indices',\n",
       " 'tril_indices_from',\n",
       " 'trim_zeros',\n",
       " 'triu',\n",
       " 'triu_indices',\n",
       " 'triu_indices_from',\n",
       " 'true_divide',\n",
       " 'trunc',\n",
       " 'typecodes',\n",
       " 'typename',\n",
       " 'typing',\n",
       " 'ubyte',\n",
       " 'ufunc',\n",
       " 'uint',\n",
       " 'uint16',\n",
       " 'uint32',\n",
       " 'uint64',\n",
       " 'uint8',\n",
       " 'uintc',\n",
       " 'uintp',\n",
       " 'ulong',\n",
       " 'ulonglong',\n",
       " 'union1d',\n",
       " 'unique',\n",
       " 'unique_all',\n",
       " 'unique_counts',\n",
       " 'unique_inverse',\n",
       " 'unique_values',\n",
       " 'unpackbits',\n",
       " 'unravel_index',\n",
       " 'unsignedinteger',\n",
       " 'unstack',\n",
       " 'unwrap',\n",
       " 'ushort',\n",
       " 'vander',\n",
       " 'var',\n",
       " 'vdot',\n",
       " 'vecdot',\n",
       " 'vectorize',\n",
       " 'void',\n",
       " 'vsplit',\n",
       " 'vstack',\n",
       " 'where',\n",
       " 'zeros',\n",
       " 'zeros_like']"
      ]
     },
     "execution_count": 80,
     "metadata": {},
     "output_type": "execute_result"
    }
   ],
   "source": [
    "# Verificando todos os métodos e atributos disponíveis no pacote\n",
    "dir(numpy)"
   ]
  },
  {
   "cell_type": "code",
   "execution_count": 81,
   "metadata": {},
   "outputs": [
    {
     "data": {
      "text/plain": [
       "np.float64(5.0)"
      ]
     },
     "execution_count": 81,
     "metadata": {},
     "output_type": "execute_result"
    }
   ],
   "source": [
    "# Usando um dos métodos do pacote Numpy\n",
    "numpy.sqrt(25)"
   ]
  },
  {
   "cell_type": "code",
   "execution_count": 82,
   "metadata": {},
   "outputs": [],
   "source": [
    "# Importando apenas um dos métodos do pacote Numpy\n",
    "from numpy import sqrt"
   ]
  },
  {
   "cell_type": "code",
   "execution_count": 83,
   "metadata": {},
   "outputs": [
    {
     "data": {
      "text/plain": [
       "np.float64(3.0)"
      ]
     },
     "execution_count": 83,
     "metadata": {},
     "output_type": "execute_result"
    }
   ],
   "source": [
    "# Usando o método\n",
    "sqrt(9)"
   ]
  },
  {
   "cell_type": "code",
   "execution_count": 84,
   "metadata": {},
   "outputs": [
    {
     "name": "stdout",
     "output_type": "stream",
     "text": [
      "['False_', 'ScalarType', 'True_', '_CopyMode', '_NoValue', '__NUMPY_SETUP__', '__all__', '__array_api_version__', '__array_namespace_info__', '__builtins__', '__cached__', '__config__', '__dir__', '__doc__', '__expired_attributes__', '__file__', '__former_attrs__', '__future_scalars__', '__getattr__', '__loader__', '__name__', '__numpy_submodules__', '__package__', '__path__', '__spec__', '__version__', '_array_api_info', '_core', '_distributor_init', '_expired_attrs_2_0', '_get_promotion_state', '_globals', '_int_extended_msg', '_mat', '_msg', '_no_nep50_warning', '_pyinstaller_hooks_dir', '_pytesttester', '_set_promotion_state', '_specific_msg', '_type_info', '_typing', '_utils', 'abs', 'absolute', 'acos', 'acosh', 'add', 'all', 'allclose', 'amax', 'amin', 'angle', 'any', 'append', 'apply_along_axis', 'apply_over_axes', 'arange', 'arccos', 'arccosh', 'arcsin', 'arcsinh', 'arctan', 'arctan2', 'arctanh', 'argmax', 'argmin', 'argpartition', 'argsort', 'argwhere', 'around', 'array', 'array2string', 'array_equal', 'array_equiv', 'array_repr', 'array_split', 'array_str', 'asanyarray', 'asarray', 'asarray_chkfinite', 'ascontiguousarray', 'asfortranarray', 'asin', 'asinh', 'asmatrix', 'astype', 'atan', 'atan2', 'atanh', 'atleast_1d', 'atleast_2d', 'atleast_3d', 'average', 'bartlett', 'base_repr', 'binary_repr', 'bincount', 'bitwise_and', 'bitwise_count', 'bitwise_invert', 'bitwise_left_shift', 'bitwise_not', 'bitwise_or', 'bitwise_right_shift', 'bitwise_xor', 'blackman', 'block', 'bmat', 'bool', 'bool_', 'broadcast', 'broadcast_arrays', 'broadcast_shapes', 'broadcast_to', 'busday_count', 'busday_offset', 'busdaycalendar', 'byte', 'bytes_', 'c_', 'can_cast', 'cbrt', 'cdouble', 'ceil', 'char', 'character', 'choose', 'clip', 'clongdouble', 'column_stack', 'common_type', 'complex128', 'complex64', 'complexfloating', 'compress', 'concat', 'concatenate', 'conj', 'conjugate', 'convolve', 'copy', 'copysign', 'copyto', 'core', 'corrcoef', 'correlate', 'cos', 'cosh', 'count_nonzero', 'cov', 'cross', 'csingle', 'ctypeslib', 'cumprod', 'cumsum', 'cumulative_prod', 'cumulative_sum', 'datetime64', 'datetime_as_string', 'datetime_data', 'deg2rad', 'degrees', 'delete', 'diag', 'diag_indices', 'diag_indices_from', 'diagflat', 'diagonal', 'diff', 'digitize', 'divide', 'divmod', 'dot', 'double', 'dsplit', 'dstack', 'dtype', 'dtypes', 'e', 'ediff1d', 'einsum', 'einsum_path', 'emath', 'empty', 'empty_like', 'equal', 'errstate', 'euler_gamma', 'exceptions', 'exp', 'exp2', 'expand_dims', 'expm1', 'extract', 'eye', 'f2py', 'fabs', 'fft', 'fill_diagonal', 'finfo', 'fix', 'flatiter', 'flatnonzero', 'flexible', 'flip', 'fliplr', 'flipud', 'float16', 'float32', 'float64', 'float_power', 'floating', 'floor', 'floor_divide', 'fmax', 'fmin', 'fmod', 'format_float_positional', 'format_float_scientific', 'frexp', 'from_dlpack', 'frombuffer', 'fromfile', 'fromfunction', 'fromiter', 'frompyfunc', 'fromregex', 'fromstring', 'full', 'full_like', 'gcd', 'generic', 'genfromtxt', 'geomspace', 'get_include', 'get_printoptions', 'getbufsize', 'geterr', 'geterrcall', 'gradient', 'greater', 'greater_equal', 'half', 'hamming', 'hanning', 'heaviside', 'histogram', 'histogram2d', 'histogram_bin_edges', 'histogramdd', 'hsplit', 'hstack', 'hypot', 'i0', 'identity', 'iinfo', 'imag', 'in1d', 'index_exp', 'indices', 'inexact', 'inf', 'info', 'inner', 'insert', 'int16', 'int32', 'int64', 'int8', 'int_', 'intc', 'integer', 'interp', 'intersect1d', 'intp', 'invert', 'is_busday', 'isclose', 'iscomplex', 'iscomplexobj', 'isdtype', 'isfinite', 'isfortran', 'isin', 'isinf', 'isnan', 'isnat', 'isneginf', 'isposinf', 'isreal', 'isrealobj', 'isscalar', 'issubdtype', 'iterable', 'ix_', 'kaiser', 'kron', 'lcm', 'ldexp', 'left_shift', 'less', 'less_equal', 'lexsort', 'lib', 'linalg', 'linspace', 'little_endian', 'load', 'loadtxt', 'log', 'log10', 'log1p', 'log2', 'logaddexp', 'logaddexp2', 'logical_and', 'logical_not', 'logical_or', 'logical_xor', 'logspace', 'long', 'longdouble', 'longlong', 'ma', 'mask_indices', 'matmul', 'matrix', 'matrix_transpose', 'max', 'maximum', 'may_share_memory', 'mean', 'median', 'memmap', 'meshgrid', 'mgrid', 'min', 'min_scalar_type', 'minimum', 'mintypecode', 'mod', 'modf', 'moveaxis', 'multiply', 'nan', 'nan_to_num', 'nanargmax', 'nanargmin', 'nancumprod', 'nancumsum', 'nanmax', 'nanmean', 'nanmedian', 'nanmin', 'nanpercentile', 'nanprod', 'nanquantile', 'nanstd', 'nansum', 'nanvar', 'ndarray', 'ndenumerate', 'ndim', 'ndindex', 'nditer', 'negative', 'nested_iters', 'newaxis', 'nextafter', 'nonzero', 'not_equal', 'number', 'object_', 'ogrid', 'ones', 'ones_like', 'outer', 'packbits', 'pad', 'partition', 'percentile', 'permute_dims', 'pi', 'piecewise', 'place', 'poly', 'poly1d', 'polyadd', 'polyder', 'polydiv', 'polyfit', 'polyint', 'polymul', 'polynomial', 'polysub', 'polyval', 'positive', 'pow', 'power', 'printoptions', 'prod', 'promote_types', 'ptp', 'put', 'put_along_axis', 'putmask', 'quantile', 'r_', 'rad2deg', 'radians', 'random', 'ravel', 'ravel_multi_index', 'real', 'real_if_close', 'rec', 'recarray', 'reciprocal', 'record', 'remainder', 'repeat', 'require', 'reshape', 'resize', 'result_type', 'right_shift', 'rint', 'roll', 'rollaxis', 'roots', 'rot90', 'round', 'row_stack', 's_', 'save', 'savetxt', 'savez', 'savez_compressed', 'sctypeDict', 'searchsorted', 'select', 'set_printoptions', 'setbufsize', 'setdiff1d', 'seterr', 'seterrcall', 'setxor1d', 'shape', 'shares_memory', 'short', 'show_config', 'show_runtime', 'sign', 'signbit', 'signedinteger', 'sin', 'sinc', 'single', 'sinh', 'size', 'sort', 'sort_complex', 'spacing', 'split', 'sqrt', 'square', 'squeeze', 'stack', 'std', 'str_', 'strings', 'subtract', 'sum', 'swapaxes', 'take', 'take_along_axis', 'tan', 'tanh', 'tensordot', 'test', 'testing', 'tile', 'timedelta64', 'trace', 'transpose', 'trapezoid', 'trapz', 'tri', 'tril', 'tril_indices', 'tril_indices_from', 'trim_zeros', 'triu', 'triu_indices', 'triu_indices_from', 'true_divide', 'trunc', 'typecodes', 'typename', 'typing', 'ubyte', 'ufunc', 'uint', 'uint16', 'uint32', 'uint64', 'uint8', 'uintc', 'uintp', 'ulong', 'ulonglong', 'union1d', 'unique', 'unique_all', 'unique_counts', 'unique_inverse', 'unique_values', 'unpackbits', 'unravel_index', 'unsignedinteger', 'unstack', 'unwrap', 'ushort', 'vander', 'var', 'vdot', 'vecdot', 'vectorize', 'void', 'vsplit', 'vstack', 'where', 'zeros', 'zeros_like']\n"
     ]
    }
   ],
   "source": [
    "# Imprimindo todos os métodos do pacote numpy\n",
    "print(dir(numpy))"
   ]
  },
  {
   "cell_type": "code",
   "execution_count": 85,
   "metadata": {},
   "outputs": [
    {
     "name": "stdout",
     "output_type": "stream",
     "text": [
      "Help on ufunc:\n",
      "\n",
      "sqrt = <ufunc 'sqrt'>\n",
      "    sqrt(x, /, out=None, *, where=True, casting='same_kind', order='K', dtype=None, subok=True[, signature])\n",
      "\n",
      "    Return the non-negative square-root of an array, element-wise.\n",
      "\n",
      "    Parameters\n",
      "    ----------\n",
      "    x : array_like\n",
      "        The values whose square-roots are required.\n",
      "    out : ndarray, None, or tuple of ndarray and None, optional\n",
      "        A location into which the result is stored. If provided, it must have\n",
      "        a shape that the inputs broadcast to. If not provided or None,\n",
      "        a freshly-allocated array is returned. A tuple (possible only as a\n",
      "        keyword argument) must have length equal to the number of outputs.\n",
      "    where : array_like, optional\n",
      "        This condition is broadcast over the input. At locations where the\n",
      "        condition is True, the `out` array will be set to the ufunc result.\n",
      "        Elsewhere, the `out` array will retain its original value.\n",
      "        Note that if an uninitialized `out` array is created via the default\n",
      "        ``out=None``, locations within it where the condition is False will\n",
      "        remain uninitialized.\n",
      "    **kwargs\n",
      "        For other keyword-only arguments, see the\n",
      "        :ref:`ufunc docs <ufuncs.kwargs>`.\n",
      "\n",
      "    Returns\n",
      "    -------\n",
      "    y : ndarray\n",
      "        An array of the same shape as `x`, containing the positive\n",
      "        square-root of each element in `x`.  If any element in `x` is\n",
      "        complex, a complex array is returned (and the square-roots of\n",
      "        negative reals are calculated).  If all of the elements in `x`\n",
      "        are real, so is `y`, with negative elements returning ``nan``.\n",
      "        If `out` was provided, `y` is a reference to it.\n",
      "        This is a scalar if `x` is a scalar.\n",
      "\n",
      "    See Also\n",
      "    --------\n",
      "    emath.sqrt\n",
      "        A version which returns complex numbers when given negative reals.\n",
      "        Note that 0.0 and -0.0 are handled differently for complex inputs.\n",
      "\n",
      "    Notes\n",
      "    -----\n",
      "    *sqrt* has--consistent with common convention--as its branch cut the\n",
      "    real \"interval\" [`-inf`, 0), and is continuous from above on it.\n",
      "    A branch cut is a curve in the complex plane across which a given\n",
      "    complex function fails to be continuous.\n",
      "\n",
      "    Examples\n",
      "    --------\n",
      "    >>> import numpy as np\n",
      "    >>> np.sqrt([1,4,9])\n",
      "    array([ 1.,  2.,  3.])\n",
      "\n",
      "    >>> np.sqrt([4, -1, -3+4J])\n",
      "    array([ 2.+0.j,  0.+1.j,  1.+2.j])\n",
      "\n",
      "    >>> np.sqrt([4, -1, np.inf])\n",
      "    array([ 2., nan, inf])\n",
      "\n"
     ]
    }
   ],
   "source": [
    "# Help do método sqrt do pacote Numpy\n",
    "help(sqrt)"
   ]
  },
  {
   "cell_type": "code",
   "execution_count": 86,
   "metadata": {},
   "outputs": [],
   "source": [
    "import random"
   ]
  },
  {
   "cell_type": "code",
   "execution_count": 87,
   "metadata": {},
   "outputs": [
    {
     "data": {
      "text/plain": [
       "'Laranja'"
      ]
     },
     "execution_count": 87,
     "metadata": {},
     "output_type": "execute_result"
    }
   ],
   "source": [
    "random.choice(['Abacate', 'Banana', 'Laranja'])"
   ]
  },
  {
   "cell_type": "code",
   "execution_count": 88,
   "metadata": {},
   "outputs": [
    {
     "data": {
      "text/plain": [
       "[73, 86, 7, 65, 9, 46, 96, 39, 15, 34]"
      ]
     },
     "execution_count": 88,
     "metadata": {},
     "output_type": "execute_result"
    }
   ],
   "source": [
    "random.sample(range(100), 10)"
   ]
  },
  {
   "cell_type": "code",
   "execution_count": 89,
   "metadata": {},
   "outputs": [],
   "source": [
    "import statistics"
   ]
  },
  {
   "cell_type": "code",
   "execution_count": 90,
   "metadata": {},
   "outputs": [],
   "source": [
    "dados = [2.75, 1.75, 1.25, 0.25, 0.5, 1.25, 3.5]"
   ]
  },
  {
   "cell_type": "code",
   "execution_count": 91,
   "metadata": {},
   "outputs": [
    {
     "data": {
      "text/plain": [
       "1.6071428571428572"
      ]
     },
     "execution_count": 91,
     "metadata": {},
     "output_type": "execute_result"
    }
   ],
   "source": [
    "statistics.mean(dados)"
   ]
  },
  {
   "cell_type": "code",
   "execution_count": 92,
   "metadata": {},
   "outputs": [
    {
     "data": {
      "text/plain": [
       "1.25"
      ]
     },
     "execution_count": 92,
     "metadata": {},
     "output_type": "execute_result"
    }
   ],
   "source": [
    "statistics.median(dados)"
   ]
  },
  {
   "cell_type": "code",
   "execution_count": 93,
   "metadata": {},
   "outputs": [],
   "source": [
    "import os"
   ]
  },
  {
   "cell_type": "code",
   "execution_count": 94,
   "metadata": {},
   "outputs": [
    {
     "data": {
      "text/plain": [
       "'c:\\\\Projetos\\\\python\\\\DSA\\\\cap06'"
      ]
     },
     "execution_count": 94,
     "metadata": {},
     "output_type": "execute_result"
    }
   ],
   "source": [
    "os.getcwd()"
   ]
  },
  {
   "cell_type": "code",
   "execution_count": 95,
   "metadata": {},
   "outputs": [
    {
     "name": "stdout",
     "output_type": "stream",
     "text": [
      "['DirEntry', 'EX_OK', 'F_OK', 'GenericAlias', 'Mapping', 'MutableMapping', 'O_APPEND', 'O_BINARY', 'O_CREAT', 'O_EXCL', 'O_NOINHERIT', 'O_RANDOM', 'O_RDONLY', 'O_RDWR', 'O_SEQUENTIAL', 'O_SHORT_LIVED', 'O_TEMPORARY', 'O_TEXT', 'O_TRUNC', 'O_WRONLY', 'P_DETACH', 'P_NOWAIT', 'P_NOWAITO', 'P_OVERLAY', 'P_WAIT', 'PathLike', 'R_OK', 'SEEK_CUR', 'SEEK_END', 'SEEK_SET', 'TMP_MAX', 'W_OK', 'X_OK', '_AddedDllDirectory', '_Environ', '__all__', '__builtins__', '__doc__', '__file__', '__loader__', '__name__', '__package__', '__spec__', '_check_methods', '_execvpe', '_exists', '_exit', '_fspath', '_get_exports_list', '_walk_symlinks_as_files', '_wrap_close', 'abc', 'abort', 'access', 'add_dll_directory', 'altsep', 'chdir', 'chmod', 'close', 'closerange', 'cpu_count', 'curdir', 'defpath', 'device_encoding', 'devnull', 'dup', 'dup2', 'environ', 'error', 'execl', 'execle', 'execlp', 'execlpe', 'execv', 'execve', 'execvp', 'execvpe', 'extsep', 'fdopen', 'fsdecode', 'fsencode', 'fspath', 'fstat', 'fsync', 'ftruncate', 'get_blocking', 'get_exec_path', 'get_handle_inheritable', 'get_inheritable', 'get_terminal_size', 'getcwd', 'getcwdb', 'getenv', 'getlogin', 'getpid', 'getppid', 'isatty', 'kill', 'linesep', 'link', 'listdir', 'listdrives', 'listmounts', 'listvolumes', 'lseek', 'lstat', 'makedirs', 'mkdir', 'name', 'open', 'pardir', 'path', 'pathsep', 'pipe', 'popen', 'putenv', 'read', 'readlink', 'remove', 'removedirs', 'rename', 'renames', 'replace', 'rmdir', 'scandir', 'sep', 'set_blocking', 'set_handle_inheritable', 'set_inheritable', 'spawnl', 'spawnle', 'spawnv', 'spawnve', 'st', 'startfile', 'stat', 'stat_result', 'statvfs_result', 'strerror', 'supports_bytes_environ', 'supports_dir_fd', 'supports_effective_ids', 'supports_fd', 'supports_follow_symlinks', 'symlink', 'sys', 'system', 'terminal_size', 'times', 'times_result', 'truncate', 'umask', 'uname_result', 'unlink', 'unsetenv', 'urandom', 'utime', 'waitpid', 'waitstatus_to_exitcode', 'walk', 'write']\n"
     ]
    }
   ],
   "source": [
    "print(dir(os))"
   ]
  },
  {
   "cell_type": "markdown",
   "metadata": {},
   "source": [
    "> Podemos trabalhar com módulos dos pacotes (quando disponíveis)."
   ]
  },
  {
   "cell_type": "code",
   "execution_count": 96,
   "metadata": {},
   "outputs": [],
   "source": [
    "# Importando o módulo request do pacote urllib, usado para trazer url's \n",
    "# para dentro do nosso ambiente Python\n",
    "import urllib.request"
   ]
  },
  {
   "cell_type": "markdown",
   "metadata": {},
   "source": [
    "http://python.org"
   ]
  },
  {
   "cell_type": "code",
   "execution_count": 97,
   "metadata": {},
   "outputs": [],
   "source": [
    "# Variável resposta armazena o objeto de conexão à url passada como \n",
    "# parâmetro\n",
    "resposta = urllib.request.urlopen('http://python.org')"
   ]
  },
  {
   "cell_type": "code",
   "execution_count": 98,
   "metadata": {},
   "outputs": [
    {
     "name": "stdout",
     "output_type": "stream",
     "text": [
      "<http.client.HTTPResponse object at 0x000001CD2AC67B80>\n"
     ]
    }
   ],
   "source": [
    "# Objeto resposta\n",
    "print(resposta)"
   ]
  },
  {
   "cell_type": "code",
   "execution_count": 99,
   "metadata": {},
   "outputs": [],
   "source": [
    "# Chamando o método read() do objeto resposta e armazenando o código \n",
    "# html na variável html\n",
    "html = resposta.read()"
   ]
  },
  {
   "cell_type": "code",
   "execution_count": 100,
   "metadata": {},
   "outputs": [
    {
     "name": "stdout",
     "output_type": "stream",
     "text": [
      "b'\\x1f\\x8b\\x08\\x00\\x00\\x00\\x00\\x00\\x00\\x03\\xed]{s\\xdbF\\x92\\xff\\xdfU\\xfb\\x1d&t\\x9d%o\\x0c\\xbe\\xf4\\xb4,1+\\xdb\\xb2\\xad\\xac_\\x89\\xe4\\xf8\\xeer)\\x17H\\x80$$\\x12\\xa0\\xf1\\x90\\xc4\\xec\\xeew\\xbf_\\xf7\\xcc\\x00\\x03\\x10\\x00IY\\xebM\\xaa\\x9cT\"\\xe25\\xd3\\xd3\\xd3\\xaf\\xe9\\xe9\\xee9\\xfc\\xce\\t\\x06\\xf1|\\xe6\\x8aq<\\x9d\\xf4\\xee\\x1d~gY\\xbfzC1\\x89\\xc5\\xe9\\x89\\xd8\\xfb\\xad\\'\\x848\\xa4Gb0\\xb1\\xa3\\xe8\\xa8\\xe1\\x07\\xd6E$<w\\x17\\xafX\\x9e\\xbb\\'\\xff\\xec\\xcb?\\x8f\\x1b\\xfc\\xfew\\xbf\\xba\\xbe\\xe3\\r\\x7f\\xb3\\xac\\xac\\xc1\\xb4\\xb5\\xaa\\x06\\xcbZ\\xc2\\xbb\\xf4OU\\x83\\xfb\\x0c\\x1e\\xbdP\\x06a\\x0e&\\xf9\\x9e\\xfe\\x7fi\\x83#\\x1e2\\xda$\\x1c\\xf4\\x16\\x9bl\\x88\\x89\\xed\\x8f\\x8e\\x1a\\xae\\xdf\\x10\\x8e\\x17\\x1e5&qH\\xe3\\xa5\\xd7s\\r\\xde;\\x1c\\xbb\\xb6\\xd3\\xbb\\'A\\xb7,\\xf12\\x08F\\x13W\\xc4\\xf6Hl\\x8e\\xf0\\xff\\xe6E\\xf4P\\x10r\\xf8\\x8dh\\x10z\\xb3X\\xd8\\xd1\\xdc\\x1f\\x88(\\x1c\\x1c5\\xc6q<\\x8b\\x0eZ\\xad\\xeb\\xeb\\xeb\\xe6\\x88\\xbf\\xc5GS\\xdb\\xb7Gn\\xd8\\x1c\\x04\\xd3\\x165\\xd2\\xba\\x88~\\xf0\\x9c\\xa3\\x97\\xd6\\xf9\\x8b\\xad\\x9d\\xffy\\xf1\\xf8\\xd9/\\xaf\\x1a\\xbd\\xc3\\x96l-\\xd7\\xb4\\xbc\\x10\\xe2\\xda\\xf3\\x9d\\xe0\\xba\\xe9\\xd8\\xb1\\xfd\\xda\\x9e\\xbb\\xa18Z\\xbc\\xf5\\xcf\\x7f\\x8a_\\x7f{\\xc2\\x80\\t1L\\xfcA\\xec\\x05\\xbe\\xa0\\xfe6\\x1f\\xfe#\\xfd\\xb29K\\xa2\\xf1\\xa6\\x1d\\x8e\\x92\\xa9\\xeb\\xc7\\xd1\\xc3\\'\\xffR_\\xf0\\x8b\\x1b\\x17\\xd1\\xc6#\\xe1\\xbb\\xd7\\xe2\\xb9\\x1d\\xbb\\x9b\\x0f\\x1f\\xea\\xf6\\xe4\\xd3A\\xe0\\x0f\\xbd\\x11\\xde\\xd80a\\xdfPo\\x15F\\x00\\xdc\\x8a\\xf7\\x13;\\x89\\xbc\\xfe\\xc4mz\\x81\\x00\\x16&\\xf3\\xd8\\x1bD\\x0b\\x08t\\xdc!\\xc6D0ZN0\\xb5=\\xff\\xa81\\x9b\\xc7\\xe3\\xc0o\\x06\\xe1\\xa8\\x91\\xc7\\xec\\xcch\\x12\\x88TX\\xc3\\xbc\\x98(\\x94\\xd33\\x05\\xf2\\xc5`l\\x87\\x91\\x1b\\x1f5\\x92xh\\xed7\\x14z\\xf9\\x11M\\x96\\xe5~N\\xbc\\xab\\xa3\\xc6\\x7f[\\x1f\\x8e\\xadg\\xc1tf\\xc7\\x04oC`\\xac10t\\xd48=9r\\x9d\\x91\\x8b/e\\xab\\x13\\xcf\\xbf\\x14\\xa1;\\x01\\x8c!\\xe0\\x8e\\x07\\xe3\\x86\\x18\\xe3\\xd7Q\\xa3\\xd5\\xb2/\\xec\\x1b5\\xef\\xf6\\xcc\\x8bx\\xc6\\xe9^k\\xe2\\xf5\\xa3\\xd6\\xc5\\xe7\\xc4\\r\\xe7\\xadNs\\xbf\\xd9U\\x17\\xcd\\xa9\\xe73\\xecw\\xd3v\\xe2\\xa1\\xf5N\\xb7\\xd9Q\\xcd[\\x89\\x97\\xf5` \\xc5\\xb7\\xa7\\xeeQ\\xc3\\x9e\\xcd&\\xde\\x00\\x03\\x0e|\\x8b\\xee\\x18\\x83~\\x9f\\xa1\\xdf\\xc4\\x98\\xfcn\\x1a\\x99_\\xc6A0\\x89\\xbd\\x99\\xf1\\xf1\\xf9\\xd8\\x15\\xc1p\\xe8\\r<{\"\\xc6\\xc1\\x94\\xaeD\\x8c\\x9b\\xb2U\\xf1>\\x0cF\\xa1=\\xc5\\xd0G\\xe25\\x183\\x01w\\xe4&&\\x03\\xcf\\xb5\\xa6A\\xdf\\x9b\\xb8\\xd6\\xb5\\xdb\\xb7\\xd0\\xab\\x15{qnvj\\x01%0\\x17Z\\x18\\xd83;?\\xc3s7\\x9d\\x00\\xa6\\x8b\\x9a\\xee\\xa3\\xd8\\x8e\\x93\\xc8\\xea\\xdb\\xa1\\x15\\xc5\\xf3\\x1c$\\xfd\\x89=\\xb8L\\xa9\\xc4h\\xe8\\xcas\\xafgA\\x18\\x1b\\x18\\xba\\xf6\\x9cx|\\xe4\\xb8W\\xde\\x00C\\xa3\\x8bG\\xc2\\xf3\\xbd\\x18\\x08\\xb3\\xa2\\x81=q\\x8f:\\xcdv\\tJ^\\xd9\\xbe3v\\'\\xce\\x8b\\xd0\\x83\\x9c\\x9e\\xccM\\xa4\\x87I\\x19\\x12\\x87A8\\xb5c\\xcbqc\\x97\\x05\\x82\\xf1E\\xecN\\xdc\\x19\\x98\\xcc=\\xf2\\x83J\\xbe\\x18L\\\\;$-c|\\x88V\\xaa\\xd8\\xc8\\x9bb.\\x89\"\\x80!\\xe3\\x8b\\xa1=\\x892\\x0e2\\xc5\\xa6\\x92>Rj\\xe5D\\xe8\\xd4u<\\xbb\\xe9\\xc6c\\x90\\xe8\\xc4v\"\\x88\\x90\\x16\\xdfk\\r&\\x18}\\xdc\\xba\\xea4\\xb7\\x9b\\xed\\x96\\xf1\\x86b\\xa6\\\\\\x9b\\x1e\\xd8x\\x14z\\xf1\\xfc\\xa8\\x11\\x8d\\xed\\xee\\xce\\xae\\xf5ak\\xfc\\xf7\\xe7\\x9e\\x938\\xa7\\xf6\\xcd\\xd3\\xe7\\'\\xbf_\\xbf\\xfc\\xf1x\\xf6\\xe3\\xe8\\xfd\\xc9\\xb0;\\xfdx\\xb9;\\x18\\xbe\\xf98\\x1a\\x87\\xc7\\xf6\\xae\\xd7>\\x12\\xf8fk\\x7f\\xdb\\xfa0\\x98F\\xcf>\\x0f\\xde\\xfe|\\xf6\\xfac\\xcb\\xf9e\\xebu\\xd0\\t\\x9ey\\xdd\\xd6/v\\x12\\xfew\\xdf\\xeb\\xef\\xce\\xb6_\\xcd?\\x9c\\xbcsO\\xed\\xd6\\xf6\\xbbY\\x14\\xfa\\xc9 LF\\xc7\\xee\\xf0\\xf7_\\xfe\\xf7\\xc7\\xe1)\\xb5\\xb3\\xd3\\xe9Z\\x9f\\xb7\\xe3\\xce\\xeb\\xed\\x9b\\x93\\x8b\\x97\\xbft\\x7f\\xde\\x1e\\xff\\xfe\\xf9\\x99\\xbd\\xddy\\xbf\\x7f\\x11\\x8e^|8\\xdb\\xbf9\\xef\\xef\\x87\\xce\\xdb\\xab\\xed\\x17/\\xaf\\xae\\xf7^\\xcc\\xe6\\xce/\\x17\\xad\\xcb\\xcb\\x9b\\xa7?\\xbez\\xe7\\xd9\\xc1\\xcd+{?\\x98<\\x1b\\xdct\\xce&\\x97\\x8f\\xff\\xfe\\xfdV\\xf4\\xb6\\x1f\\xbd\\xd9NFGG\\x8d\\xdc\\x98\\x07a\\x10EA\\xe8\\x8dH\\x92\\xda~\\xe0\\xcf\\xa7A\\x12\\xc9w\\xca\\x15\\x8d\\x94\\xb1-\"oo@b\\x95\\x05\\xd64p\\xdc\\xd0\\xf7~\\x0fK\\xc5+\\x0bB%\\xf9\\xd4\\x87\\xcc\\x13\\xd1\\xd8uc\\x08f\\xfa\\xddl\\xef\\xdb\\xed\\xbd}\\xa7m\\xdb\\xedns\\x10E\\r):\\xb3\\x17\\x1b\\x82\\xa8\\xeb\\xa8\\x11\\xbb7q\\x8b_\\xe0I\\x06\\xdc\\x93\\t\\x9e\\x11\\xbb\\x1f5\\xa0 \\xecd\\x02\\x0ej\\x99\\x82\\xb2\\xba\\xef\\xe9\\xe7\\xe6V\\xc7u\\xdc\\xae=\\x1clw\\xf7\\xd6\\xeb\\xd8\\x0fb1\\x0bA7\\x8fD?\\xb4\\xbd\\xc9\\xc4}$\\xdci\\x1f(u\\x9dG\"\\x9a\\xb9\\xee\\x00\\xec\\x1a\\xc7\\xe0\\xbe\\x15\\xc1\\x81\\xe5\\x05\\x88\\xfa\\xc36\\x80\\xd9\\x198\\xfd\\xbd\\xad\\xf5 \\x02\\xc3\\xb8d\\xbb\\xa8\\xee\\x94\"R\\xf6\\xde\\xe6$v\\xd9\\xfcy\\xf8`\\xf3\\xbb\\xd3\\x937,/\\x1f\\xfe\\xb6\\x1a\\xa2\\xee\\x1a2\\xe2c\\xa9gLK\\x92\\xee\\x1efz\\xd3\\x9c\\xfcu4g\\xa6\\xdd\\xa0L\\xa6.Hl\\x1a\\x04\\xf1\\xd8w#\\xad[I\\xdf\\x11\\r)]]T\\xaa\\x1e\\x94\\xba\\xa67\\x96T\\xad\\x1bK\\xde\\xcb\\x93\\xd2\\xd0\\x86`\\x86\\xf5\\x81\\xff-jf\\xa9T\\xe2 \\x19\\x8c\\xf9c\\x0bf\\x00\\xf4\\xfc,\\x00y\\xc0V\\xf1~wakw\\xb6\\xb7o\\xf0_j\\x19(\\xfeX\\xf8V\\xbdg\\xb6\\xd1\\x9c\\xf9\\xa3\\xdb\\xf6\\xdaA\\xaf\\x9d\\x15z\\x95\\xef\\xddQ\\xaf{\\xdd\\x9b\\xbd\\xee\\xd2\\x91\\xf2[_\\xdac~\\x9a\\x16\\xb0i\\xcc\\xc4jX\\\\\\n\\xf5b\\x8bLS\\x0b\\xa6T\\xde$:\\x07\\x07\\x9e\\x12}\\x19*P\\xcbV\\x18\\x06a \\tGM\\xbe\\x04\\x95\\xd6\"\\xe2z\\xec\\x81\\x99\\xa1+\\xb0\\xaaKW\\x19\\x86)\\xb1\\xd8\\xcd\\xb3`\\x12\\x98\\x9a\\xf6\\xfe\\xd6\\xee\\xde\\x96\\xbd\\x03c\\x98\\xda\\x93V\\xb4\\xe8O\\x92U\\xda\\xf3\\xed\\xab~\\x12\\xc7 \\xe9AU\\xabJ\\xf4\\xb0X\\xee}t\\' |\\xac\\x8e\\x02e\\xd9\\x91\\xb9~\\xd8\\x92\\x0f\\xd5\\x9b\\x06\\xf0\\x8e+\\x15\\x7f\\xde\\n\\xb9#c\\xf1\\xd2\\x9d_\\x07\\xa1\\x03\\xf5\\x91\\x1a\\xee\\xca\\xda\\x9c\\x19\\xd6&-\\x03\\xc9\\xda\\x14A\\xff\\x02\\xf6\\x90\\x80\\x8e\\x84%\\xe1:\\x02\\xe6\\xa5\\x18B\\xc8\\x8a`\\xe6\\xfa\"\\n\\x92p\\x80y\\x08\\x86\\xf1\\xb5\\x1d\\xba\\x02V\\xb2\\xebG\\xae\\xc0\\x82\\x9b\\x97Ml2\\xe3\\xea\\xda\\x9f\\x04\\xb6\\x83\\x1e\\xa7\\xd3\\x04\\xd6\\xdb</wx\\xe8\\xe8}\\xe6\\xc2\\x80:j\\x04\\xa3\\x83\\x82\\x1d\\x85N#\\xccw\\xce\\x98\\xca\\xbdOO?\\xadf\\x99\\xe7\\xfb)\\x18\\xc9\\xa5\\x13U\\xdd\\xed\\x9dO\\x94\\xc1.98Y\\x06\\x1b3f\\xae\\x9e\\xb3\\x05\\xa0\\xe6\\x1c\\x9a\\x1a\\xac\\x1bfJ\\xecv\\xdb\\xed\\x1b\\xfcg2\\xfa\"\\xc6\\xb9\\x87\\x83\\xc8\\x1d$\\xa1\\xfb)\\taQ\\xa4\\xe4\\xf1\\x85\\x9dU\\x8di\\xa5N4\\xa1\\x18J\\xd1N\\xb0\\xe0\\x05\\'+\\x117N\\xe05\\x88\\x9a\\xf1M\\\\\\xf6.T~\\xe8c\\x85\\xae\\x95\\x99\\xb1\\x1ek\\x85Q\\xf4\\xfd\\xcd4\\xb3\\x9d\\x14\\x1b\\x9c\\xf8c\\xdb\\x1f@m\\xfa1-\\xc0\\xa0\\xae`\\x93\\x9bf\\xa3\\xecXce\\xe6\\xce\\xa2\\xa61\\x07|\\x8d\\xa6K4\\xd3-\\x80\\xf91\\xe8\\x8bw3Z\\x14\\x11\\xdfxX\\x7f\\x19\\xf6k\\x1e\\x10\\xf2\\xa4\\x18p\\\\\\x04\\xb0K\\x87\\xae\\xeb\\xd08[w\\x03\\xcd\\x99\\xe6\\xf3\\x17A\\xe2\\xc3\\x0bA\\xcc\\xfd\\xd6\\xbd\\xae\\x01\\x8a\\x00\\x88\\x9a\\xf4\\xff~\\x12\\xfa\\xca\\xb5#\\x11\\xad\\x1b\\xcb\\xda\\xe2\\xa6\\x16\\x16\\xf8\\xf6-\\xd0v\\xeaG\\x1e,\\xf2jd\\xd5\\xc0\\xa5\\xbfe@L\\xba\\xbb\\x05\\x1c?c\\xe5hG\\xb9Y\\xab\\x9d4-)\\xe5\\xcc)2\\x92\\x8a\\xd4P\\xa7jY(\\x97\\x03&EO\\x9c\\xef/\\xa2t\\xd1)\\xfe\\xa1i\\xa5\\xf17ff\\xb0\\xc8\\x81H=o\\xd1\\x00\\xb6\\xa1\\xcd\\x8e\\xa3G\\xd9\\x8b,y\\xf1\\xd6G\\xb7\\x7fF\"7{D\\xfcj|^ 7\\xe3\\xc5Y@\\xfe \\xac\\xd0\\x8f\\xe5B\\xfa \\x03D\\x88\\xc6\\xdft\\x0fgX/\\x0f\\xc6\\xea\\x9d\\xb4\\x1b\\xbc\\x11\\xc3\\xe9\\xe6\\xe6@-\\xf4\\x15\\xf1\\x97\\xad\\x1f>\\x1f\\xfdC\\xfe\\xfc\\x04.\\x9f~\\x8ab\\xacEF\\xff\\xca A[\\xecH\\xb2<\\x7f\\x96p\\x83!9\\xb1B\\xa81\\xf6\\\\,~\\x9c\\x12\\x8cr\\xf6\\xc9?\\x99\\xbf\\xaej\\x12xMva_\\xd9rj\\x14\\x11_\\xd9\\xa1\\xf84\\xb2?\\xc3\\t\\xc9\\x7f\\x0c\\xc7#]K\\x0f\\xe3\\xaf\\x1b\\x9f\\xe0u;\\x1e\\x0c\\xc0R1y\\x0c\\xe1^\\xdbz\\xdc\\xde\\xd9y\\xbc\\xb7eu6~S>\\xc3\\xdc\\x07q\\x08\\x0f\\xca{\\x08l\\xf2\\x98\\xf0+\\x0c\\xd8\\xa6vfn>4PNP\\x8cl\\xc0\\xa0\\x95r\\x13\\x8b$\\x88\\xc4\\x93\\t\\xcb\\xb8\\xcd\\r\\t3\\x9c\\x93x\\xad\\xc9~\\xf2#\\xb1Q\\x18\\xd1\\x06?\\x94\\xfe\\xdb#\\x11\\xc3\\x85\\xa2\\x1d\\x9e\\x82\\x1e\\xc0\\x1f\\x81\\x8f67\\xa4P\\xdc\\x10GFo\\x93@z\\xce\\x9a\\xd0hq\\x00\\x83I\\xfc \\xd4\\x8b\\xadV\\x14M6\\xc4\\x81\\xbc\\x96\\xde\\xe0\\x8d\\x87\\xe2{\\xb1\\xa1|\\x83V\\xea\\n\\x95>a\\x1b\\xeb\\xeb\\x8d\\xacg\\x1aZd\\x8e\\x0ct\\xa3\\x86\\x15=\\x9d\\x9f\\xdb\\xa3\\xb7\\x98\\xe6l\\x80\\xbf\\xb6\\x7f{\" \\xaca\\xa9\\xf8\\xf1[,\\xd9\\x9b\\x1e\\x8c\\x950~\\xea\\xc2\\xf9\\xe3n\\x8el,Z\\x15\\xba\\xff\\xf5p\\xb3\\xd4Y{\\xef\\xb0%\\x1d\\xdf\\xf7\\x0e\\xfb\\x813\\xd7;\\x06\\xca|$\\x17^C\\xc0c\\xdd\\xa0_3\\xe9\\xad\\xe3\\xa99t\\xbc+~\\xc0\\xcb!\\xd8\\x8f\\xd65\\x144\\x0c\\x1e\\xad\\xb4r/\\xf9\\x01<\\x9d\\xbam\\'\\xb0\\xb0\\xd0\\xc6\\x82\\x00\\x0bmEX\\xf42\\x7f0\\xeb\\x1d\\x82\\xea\\x03\\x7f\\xd4{\\x1b\\xc0\\x1f\\xe1\\x1e\\x80T\\xe5\\xb5\\xf88\\x86m-~\\x04M\\x9eI\\xe7\\xbb\\x17\\tZ\\xb0c\\r(\\xb9S`\\xd0p6\\xe2\\xb62\\xaf\\x1e\\x899\\xcc9\\xb8\\xd7\\xc0M\\xb6t\\x8a_{\\xf1\\x98\\x1d\\x92\\xca\\x18\\x803}2\\x11}2\\xf4\\xa6\\x90\\x0eN\\x13\\x8ek\\x12p\"\\x86t7;\\x83b\\x90\\xcd\\xbb\\xf0\\xb0\\xe3\\x13\\xf7\\x06c\\x85\\t9p\\x9b\\xe2\\xb05\\x93B\\x9e\\x87\\xd0\\x02f\\xd4*\\x94\\xaf\\xd5b]\\xaf\\xd5\\xd5\\xf2\\x9c\\x1fi\\x1c\\x06\\x13\\xc7\\x837\\xd0\\x86\\xc7\\x05+\\xc0\\xd5\\xf0\\xa4%\\x1c5\\xc4\\xffT\"\\xee\\x7f\\x08\\t\\xfd0\\xb8\\x06i\\x08`\\xe7\\xd0\\x9d\\xf6`\\x10\\x90\\xfd{\\xd8\\xc2o=\\xe6\\xc5\\x16\\xe1(g\\xf76q\\x01\\x88Y\\xb6\\x81%\\xcal\\xce\\xd4\\xdb\\xe8%3\\x98e\\x0e\\xaf\\x03l\\xec\\xaf\\x0c\\xe1\\xcc\\'+Cuv\\xd8\\xb2{\\xf4(\\xc3\\x15\\xde\\xea\\xbb1\\xa6\\x83\\xa6\\xa8\\x99\\xeb\\xb0\\x0c\\x89\\xe9\\xd0L\\x97B\\xfa\\x15\\xafs\\xce\\xbc\\x88\\x9a#\\xd1.^\\xc3-\\x95m10N2*%7\\xb5\\xdc\\r\\x8b\\x83\\x19\\xb9q!>rt\\x98\\x87\\x06\\x14\\xad\\xdf\\'\\xdb\\x12^\\xf2+o$\\r\\x04\"\\x1d\\xecT\\x80\\xd4E\\x18\\x90\\x8f*{f\\x12\\xbf\\x06~\\x11\\xad\\x04\\x94\\x82%\\xba\\xf4f\\x16\\xfbG\\xa4\\xa7\\xc7\\x82$\\x83\\x9e\\xb7X\\xb7eD\\xa5\\xdb\\xe21\\xe9Y\\xb9\\xafh8\\xf5\\x95\\x9d\\xa11\\xc2\\xb7\\xbe\\xdf+\\xdc\\xa0\\xf9X\\x84\\xa6@\\xaf\\xd5`\\xdb\\xcc\\xef\\x83\\t\\xdc\\x1d\\x96\\x94\\x0f\\x96\\xef\\xc6X{]\\xa6\\xa8\\xbdH\\xa6r8\\xda\\x9a\\xbd_|\\xd1\\x0e=\\xdb\\x1a{\\x8e\\xe3\\xc2AIb\\xb7j\\x94\\xd1\\xcc\\xf6\\xc5\\xe2\\xdb\\x1aq\\xec\\x7f\\xb1CP56\\x8e\\xae\\xe1\\x96>\\xa4\\x0fz\\x0f\\xee?\\xde\\xddm?\\x81\\xd4\\xa0+\\xf5G<#\\x98KF\\x0et,\\xdc\\xbdw\\xef0I7N\\xa1O\\x12=\\xcb1\\x16\\x89\\nX\\xfe\\x08\\x96T^ZZ\\xbc\\x08\\xc1z\\x83x\\xe0\\x13\\x08r*\"\\x98K\\x03\\x88\\x15}\\x13^E\\x7f0No\\x1bcOg\\xb5\\x95N\\'\\xad\\x8f\\x95\\t_\\xbao\\xa2{_\\xafG\\xd9bJ\\n\\x87\\xf0\\xf7J\\xa2X\\x18T4\\x94#*\\x83\\xb2b\\t5\\x8b\\x86\\xa5\\xf0\\x97\\xd8\\xd9\\r\\xd1{\\x7f\\xf6b\\x058\\xa0\\xe5\\xa3\\xe5\\x80\\xd0[\\xc6j!E\\xa2B\\xe0ss\\xfd\\x8e\\xaeq\\x1d\\xad\\xd0\\xf7l>\\xf3\\x96\\xf7Mo\\x91\\xd9\\x99\\r]O\\x1b\\xac\\x1a\\xf29\\x9c\\xfa\\x8e{C\\x03\\x9e\\xbf?]\\xa1WZ\\xe9T\\xf7\\xda\\xe2\\x85Pq\\x80\\xb4\\xaez\\x1a\\xd8!\\x1c\\x91=\\xfc^ep\\xd1\\x18\\x82\\x90i\\xb6l\\x86[\\xa9o\\xc3\\x82\\xef\\xc4\\x81bB\\x9f\\xa2\\xf7L{<\\xca\\xc6q\\xd8J\\x10\\x8e\\xb0\\xc8S n\\x12\\x1dEY\\xa0d\\xe0\\xa2\\xd0\\x80\\x84n\\x94\\xf0\\xfe\\xa2\\xf0b>\\\\]R$3SN\\xec,\\xc8\\t\\x83\\xe3\\xdeJ\\xc9\\xb6 \\x1ex\\xd8yU\\xd1\\x82\\xfc7\\x15~\\x89\\x01 ^\\xb1X\\x17\\x10\\x07\\xbc\\xf9\\x9e\\xba\\xf8x\\x00d\\x80\\xe1\\xa1B\\x07\\xed\\x82[\\xf2\\x96\\x16=}\\xdb\\'u\\x93\\x1f?\\xeb6\\xf5M\\xa6\\x92J$\\xda\\xe1\\xb8\\x93\\xaa\\x1bH%n\\x1b*\\xa7R\\xf2j\\xfd\\x02\\xfd~\\xe8MG\\x05!7\\tF\\x81\\xda\\x98\\xd7\\xee\\x19\\xbc\\xd4RsKO\\xd9/#\\xb0\\xca\\xd53\\xfe\\x00\\xe6\\xbd\\xe3>\\xa1m\\xfaR\\x054\\xee\\x94Am\\x0c/\\x98\\xd1\\xca\\\\n\\xbe\\xa6C-\\xeao\\xad\\xb8\\xcc\\xbf\\xa9TM\\x9d\\x1b\\xd1p\\x8a\\x1d\\x1d\\xac\\xdb\\x89_\\x07\\x1e\\xbc\\xfd\\xe1\\x14\\xa4\\xeec\\xa9\\x05\\x0f\\xa8\\xdb\\x02\\xa8~\\x04c\\xf1\\x87\\xd0\\xa5\\xd8\\x81\\xce\\x03\\x10.\\\\\\xdc\\n\\xcfN@\\xbe\\x17K\\xfaJ\\x1b\\x90\"tY:*\\x9e\\xd8\\xf2!Th<\\xfab\\x81\\xdc\\xf4`\\x14\\x07\\x91[\\xd0\\x9a\\xdaZ\\xc7\\x9a\\x0c\\x14c\\xa7\\x89\\xb5\\x954\\xd9\\xee\\xebW\\x15\\xc5\\xa7\\xd4\\x85w\\xe4\\xceG\\xef\\x01\\x07@h])\\xde\\xe0\\t\\r\\xe5\\x906\\x8eS\\x82\\xe1\\x95\\xa9\\x05\\x8b\\xd9b\\x87\\xa5\\x90v4\"\\x1e\\xd4\\x9a\\x956\\xed\\xe0\\xbe\\x02w\\xd3\\x12\\xb7\\x9cC\\xd3A\\x0c=\\xec`\\x03\\xadzsO\\xae\\x98\\r\\x172\\x1a\\xa8DA\\xda\\xca*\\xfc.\\xa1\\xe3\\xc0\\x102\\x04Vhub\\xf7\\xddT\\xef\\x97\\x18cd\\xfe\\x1f5<\\xc7\\x92M[<\\x96FO\\r\\xe1\\x9c\\x96\\x1dd\\x84B\\x9fRC\\xf5\\x88`\\xe2\\xe05<\\xcb\\xc5b\\xa3*\\x0c\\xe1\\xb3\\xf6\\xf1\\xa9\\xc1(k\\x93L\\xc3~\\x00u\\xa2MH9E\\x12\\x1e\\x81 \\x99\\x81;\\xc6\\x82\\xc2\\x05\\xb4\\x12\\xb8\\x86\\xb8\\xb2\\xb1\\rp\\xd4@{v\\x1f\\xf1D\\xee\\r\\xb6\\xa9VB\\xb5$t\\xb5O\\x1b%}\\xac\\x91\\x1a\\n:}E\\x03\\xd0\\xbf\\xf3\\x10).I\\'\\x9b?\\x97\\x0b4\\rX\\x06\\xcf\\xd6\\x12\\xda\\xd1\\xb3\\xff\\xf2\\xddr\\x02i\\xc9\\x9eW\\x98\\xf5\\xe5m\\xa9\\xd5\\xdb\\xe9\\tB\\xcc\\xe4\\x8ce\\x9b\\xd6\\x10\\x83\\xb4\\xd3\\x8dMj/\\x02\\xde\\xe7\\x07X\\x8f\\xfa\\x90sX\\tE\\x14h\\x02\\xcc\\xe8_r{\\x90\\xd0n\\xcc\\xc16\\xed\\xd5\\x18aw\\xb5\\xd0\\x1c\\xb64\\xf7T\\xd3\\x16\\xde\\x01\\xefJSX\\x93G\\x1f+\\x8aKR\\x1e\\xda&6\\x84\\x92\\xed\\\\$Ql\\r!\\xfe\\xc0\\xde\\xbf\\x13{\\xafh\\x9e\\xa7\\xcc\\x98\\xd9\\xca\\xc6\\nI\\n\"n\\x8b\\xb9\\xe1\\xa8q\\xcc=\\x89s\\xd0.\\xd8\\xe4w\\xec\\xb6\\xf8\\x82\\xfc=+\\xcc\\xbaag\\xc3_\\x1cZ\\x1d\\x84\\xf4E C\\t\\xaa\\x1d\\xcd\\x82Y2\\xab]Kh`\\ra\\xaa\\x84d\\xcaDR\\xacY\\xd0\\x02#\\xc4\\xeb\\x91\\xcc\\x94^\\x87\\xc3h\\x8ah\\x84\\xde1\\x90\\xc7?\\x04\\xfdR\\x8f\\xca\\x94Y\\xb1+\\xe6\\xf4\\x0cG`\\x14ZX2~\\xaa\\xa7\\xb1\\xd8H\\x11\\x03]mGX \\'\\xb9\\x04\\xa5\\xc5\\t\\xad8\\x009\\x96 j\\x9d\\x0bd[\\xd1\\x18n\\x16,\\xd0T8\\xc5\\x1b\\xd0\\x82\\x9a\\x05\\x1a\\x0f\\xada%*2_\\xdf\\x01\\x14\\xf5\\x99|\\xc8\\xea ] \\x14\\xc1*\\xbb\\xae\\x06\\x15Jt\\t\\xa8#,\\xe6J\\x00}M\\xde\\xd3\\n8\\xe5\\xb3\\xbb\\x04sk)\\x98l\\x18\\xa4p\\xfeLW\\x08p\\x9cC?\\xc0\\xf3A\\\\D\\x81\\x87\\xfe\\xc8\\x8d\\xc4\\xa9\\x18\\xdbW\\xae\\x98\\xc2\\xf8)G3\\x7f\\xbc\\x1e\\xf4\\xd2\\xc4.C\\xbdyo\\xf9\\xa4\\xd5\\xb7#\\x9dX\\xa6\\xfd\\x828\\xd4K\\xfa\\xcf\\xf2\\x13\\x84D\\xf2\\xff\\x96P\\xb0A\\xf6\\xb5\\xa2\\xe1,\\xe0h\\xc17\\x14\\xfb#\\xde\\xa6n\\x96%\\xad3ce+\\xf0\\xaf\\'\\x19$\\xb8\\x98\\xe6J\\xb3\\xaf89_\\x9d\\xff\\x17wd\\xc8\\xc3\\x04\\xfc\\xfa\\xec\\xb6\\xc3\\x7f\\xb0\\x89\\xe6\\xdad\\xd7{\\xddP\\x03z\\x0f\\x8c-\\xff\\x12]\\xa0%\\xcb\\xd0\\x16C\\x88v\\xd5\\xa8\\x15}N\\xe0\\x81&\\r\\xe3\\xf5\\xc8\\x07\\xe7:\\xa7\\xfezT]6\\x9b\\x99\\x94+\\x17\\x1d\\xf9Q\\x0e\\x11\\xa4\\x15\\x07\\xb0\\xcf\\xd9\\xb0\\xff\\x1bVr\\xf0.h\\xdbwQ\\xab\\xe9\\x91\\xb0\\x1bi\\n}B\\x9f\\xa6:\\xf2\\x8d\\xbaq\\x97\\x83(\\x17,r\\x10\\xd9Z\\xbb\\xe5\\x85\\x03\\xc2\\xfe*6.E-\\xf8p\\xfa\\xa7`?\\x1b\\xdb\\x08l\\xf0\\xc5\\xe9\\xcf\\xcf\\xee\\x12rD\\x15\\x95H\\xee<\\xfac8\\xd6\\xe1\\x87e\\xfaZ\\x0b\\xf7\\xea\\xc3t\\x0c\\xe7\\xb2\\xa1\\xf5\\xe0\\xaf\\x17f\\x9a\\x1f\\xefF(V\\x1air\\xce8\\x94\\x9d2\\x1b\\xb0G7\\x98$\\x0e\\xac\\xc3\\x16m\\xf0\\xd3\\x16\\x05\\xb6\\x8d\\x10(\\x96\\xaeI\\x8ar\\x82\\x99\\x80\\x9d\\x07\\xec\\xd9F\\x98/bR\\xd2\\x85o\\xcee\\x90\\r\\x89^_\\\\\\xdd\\x1c\\x92\\x95A\\x9699\\x13\\xf0;\\xb5s\\xb4\\x0b&\\xf3f\\xb3\\xbb\\xc1\\x10\\xd09\\xafx\\x99\\x83\\xbb\\x0c\\xecJ\\xa4\\x98\\xce\\xd4\\x05- \\xa9\\x8a\\x8c!\\x8e\\x196\\xed\\xc57\\x80\\xaa\\xa8\\x0c\\xb8\\x93\\xec\\x7f$\\xfdi\\x88v?\\xc0^hj\\xf4H\\x13Q9Z`,\\x8ae\\x96b\\xe6y\\xe5\\x962\\xcfZ\\xdaf\\xa3wLOr\\x02?7\\xe2\\x9c\\xcf\\xd8\\xb4\\xf1\\x14\\xfe\\x0c{\\xb8\\xc4\\xf5\\x9d6U\\xd4g\\xcb\\xec<%<$\\xd8\\xd8\\x951\\xbc\\x82\\x009\\x0b\\xf1gg`\\xc1\\xd1\\xcb\\xc4V\\xd0\\x9f\\xabI\\xdc\\x96\\xec\\xefs\\x82]\\xf1\\\\\\x8f?\\xf1\\x9d\\xb5\\xfb\\xaa\\x15\\x8c\\xb2/\\xb8\\x16b8 \\x11J\\x19\\x82\\x83\\x8c\\x19\\xea\\xbd\\x94O\\xc4\\x99|\\xb4v\\xe7u\\xb2M\\r\\x14Q\\xf73\\xb3\\xcbW\\xb8^\\xbb\\x9f\\x9d%2T\\xee\\xae\\r\\xc6\\x08Vjb\\xb4\\x92M\\xb1\\x9b;\\x0c\\xcc\\xae\\x95[\\xf9i\\x18\\xf0\\x9b\\x05(\\x94\\xf7U\\xf3\\'\\x93Ua\\xd6\\x17\\xb9\\'\\r\\xd0\\xa8\\xe2\\xa0\\xee:\\x1c\\x94\\x85{\\xa4\\x06\\xb2\\xc1E\\xcfU\\xd8\\\\\\xe6\\x9cN9:\\x05\\xda\\x14\\x18_\\x9d\\x93\\xca\\xc0\\xef\\x1dc\\xb7\\x17I?\\x1c\\xf6\\xb2\\xf6\\xbc\\xd7\\x99.\\xad\\xac;\\x19vhN\\xf5\\x99\\x0cD\\x1c@\\xbf\\xaf\\xddi-Ge\\x9d\\xca\\xd4\\xb2\\x1c\\x0b\\x7f\\xe4l\\xb3\\xf5\\x87Y\\xcbFY\\x8fS{\\x10\\xe4\\xfa\\xc3\\x8dwgk\\x8f\\xaf\\x8e\\x99R\\xa4\\xb6\\x10\\x1f\\xee\\x86&J\\xdf\\xd1\\rJL\\x8b\\xc9K\\xb2\\xfe w\\x97\\xf00e\\xff\\x15\\xb6\\xa1Z[X=s\\x04i\\x93l\\x82\\x8c)`\\'\\xf3\\xed\\xb5\\xc7\\xbeW\\x03D6v\\x1db\\xe6]!TK\\xaf\\xfd\\xa1\\x13T\\xc4\\x17n\\x8b\\xd3)2\\xa4h3\\x827\\xb5\\x8b\\xd8\\xb8\\xa5,1\\x82d\\xab\\xe4\\xc9\\xd6z\\xf2\\x04\\xd6p\\n\\xbf\\xd6\\xf1\\xe4x7z\"\\x1c\\xa6:\\xf4\\x0f\\xa4\\x97A\\x0b&\\xf9\\xe9-\\xc7\\xbbS\\xc4\\xd4\\x01\\xd9v\\xca\\xb7\\x83\\xf9M\\x1c\\xa4J\\xfd\\xe2E\\t\\x16\\xd4\\xe7\\xf6\\xe4\\xb28\\xadZ\\xccVk\\xfe:\\xd9\\x91n\\xfaz\\x97\\x9e\\x19\\x999\\r<\\xbf\\xf5\\xd4E\\xce\\x11v\\xa9\\xa2\\x97\\t\"\\x15\\r\\xa0\\xf4\\x83\\x07\\xf7o\\xba{O\"\\xc1\\xcf\\xd7\\xa6\\xfb:\\t\\xa3\\xe1BV\\xdd\\x88\\x1a7a3\\x00y\\xee^\\xb9\\x13\\x8a\\xc9\\xfe2H\\xea\\xa4O\\nI~7\\xba5\\xb4?\\x9b\\xa4\\xf0\\xe2\\xf8\\xa7\\xb5\\x11\\xb0L\\xfaP\\xb0Y\\xd9\\xbc\\xe84KS\\x0e\\xbc\\xc5\\xa2\\xf7\\xc4\\x1fM\\xbch,nE\\x96uR\\xa8\"\\x8e\\xd8\\x98\\x88\\xf7\\'\\xef\\xe5\\x96\\xf8\\xdaH\\xd8\\xaf\\x91~\\xb5\\xd4)-\\xa7\\xa7Api\\xe2A\\xdbSt{mX\\x1e\\xd7\\xc0Bz\\xa0\\x85\\xc04{\\x9eSw\\xaa\\xbf\\x13~P\\xe8\\xf0V\\x127\\xdd\\xa3\\xaf\\x92\\xb6\\xdb\\xebH\\xdb\\xb4\\xb5R\\x99\\xbb\\xb8\\xf3\\xff\\x07\\xb3\\xde2\\xf0\\xb1(\\x86 BZFN\\xfe\\xea\\x9bk\\xcft\\xad\\x11\\x97\\xf5\\nvB\\xf2\\xa3A\\xe7X\\xc4\\xc2G\\x86Lgz\\xb0v\\xafu\\x92\\xb8\\xe80\\xcaT\\xc0\\x82\\xefg\\x85\\xd5e\\x9dl5z\\x82\\xd5\\x94Ls\\x03|\\xc1w\\xd6\\x1eY\\x9d\\x04mQ\\x08\\x11\\xc2\\x1d\\xa0\\xc1\\x10\\x0bGy\\x02\\xadn\\xbb\\xdb1\\xd1\\n\\xc7\\x9e8\\xe67\\xc8\\x88\\xc1\\xce\\x8d\\xf8\\x99_\\\\\\x1b\\x8e:\\x91j\\x8c\\x9b\"\\xdc(V\\xa6\\x8c\\x95\\x9f\\xa1.\\x02\\xc5<\\x0en\\xb16\\xa8\\x13\\xa2F\\xf7\\x917\\xca\\xf5|6s\\xd9a~Ja\\xad.6\\xd5^\\x86A2[\\x7f\\x16\\xead\\xa9\\xd1=Et\\x94\\x8d\\xfc5\\xee\\xaf\\x8d\\xf1:\\x99Y+\\xbfM\\xed\\xc1\\x05\\n\\xc4G(\\xbb\\xb5\\xfb\\xef\\xb4\\xeb\\x846\\x91\\x1e\\xfc\\xc1N20\\xbd@\\x08yB\\x84+\\xea\\x18`\\xae\\xe9\\xd1\\xfa\\x9d\\x96\\xef\\xd2-\\xb8~m\\x04\\x00S\\x1a[j\\xce\\xa5\\x12W\\x1c\\xf3\\xa3\\xf5{\\xae\\x95\\\\4\\\\\\xf8\\x1a\\xe0\\xa8\\xbc\\n&W\\x0b~\\x15\\x10\\x98\\xbc\\xbf~\\xb7\\xb5\\xa2KbY\\xe5\\xcd\\xa1\\x96\\x02e\\xe2\\xe5\\t\\x1cu;\\x90\\xd1p&\\x9f\\x14z\\xbf\\x95\\x9a\\x8c\\x92\\x01\\x184\\xd2\\x9dU)\\xcb\\x9du\\x94e\\xa1\\xcdL@Uu\\x86]U\\t\\x869\\xb2?\\xe2\\xba\\xa582r[\\x8f\\x02\\x94/\\x81\\xf7-7Q\\xc7\\xb8^\\x9b8jI\\xb2\\xb2\\xeb>\\x8a\\xc9p\\xb6\\xb7\\xb9\\xb0P\\xf7\\xd6\\x06\\xa1\\x96<+Ap\\xc1\\xfc\\xbcV6a8\\xd17\\xd7\\x06\\xa2V\\xe9V\\x03\\xe1c\\x95\\xe5\"\\xf3\\x80\\xc31SI\\x01c^\\xdf^\\x1b\\x90Zm\\\\\\t\\xc8(\\x80\\x89\\xe5\\x93\\xff\\xc0\\x84\\xe3ezwm0j\\x95q%\\x18\\x11\\xa71x\\xa88c\\x82q\\x96\\xde]\\x1b\\x8cZ\\xa5\\\\\\r\\x86\\xca#D\\xb5\\x15^c\\x16\\xf1\\x92\\xc6?\\xab5(=\\xbf\\x0b\\xc1\\x86zMP\\x18:\\xde#\\xbf\\xf5\\xb1\\xbb\\x8e4\\xebC\\xcd\\x1b\\xccE\\x89\\x8b\\xc8\\x8a\\x0e\\xa6\\xd8\\x94\\xa1]a\\xb3\\x86\\x0f\\xcc!\\x04\\xbee\\xbe\\x18z\\x97\\xc6\\xf2G\\x14e\\x85a\\xa9\\xf5\\x97J\\x88\\x14O1h\\xf1>\\x80q\\xde@h6[\\x15z0w\\xe7\\xa4!uG\\xd3\\x84z`\\xb0\\xd72*U\\x1d\\x96D\\xc63\\x10\\xf2u\\xc0\\x05c7\\xbb^\\x9b\\x9c\\xebD\\x1d\\x19\\\\\\xf0\\x1a\\xcc\\xe6\\xbc\\xf1\\xdfd\\\\!\\xd5Q\\xa6\\xf6h\\xd9B\\xfd\\x13\\x9e2H\\xd6\\x86\\xa1N\\xd2\\xa50\\xc0\\xee\\xaa\\x82`\\x0e\\xc3K\\xc3\\xc0\\xbf?\\x9c\\xddn\\x9e\\xea$\\x9d\\x06\\x04\\xb1\\xee\\xe9\\xf6K>\\xa4\\x9f\\x9f\\xa8X\\xd5F/\\xe3\\x10x\\x95a\\x1a*{\\xe6.\\x98\\x1a\"\\x04!\\xe2Ul\\xbd\\xb7\\x0e[\\xcb\\xa6\\x0c\\xd1\\x98\\xb1\\xed\\t\\xf7\\xf2Ge\\\\\\x05\\xb8\\xdc\\x07\\xb3\\x16\\x86\\xa1\\xd95\\x1b\\xc4\\xdd1l\\xbe\\xeb\\x04Is\\x16\"\\xd3\\x92\\xdc\\x1e\\xe0\\x07J\\xa5\\xe3u\\x97\\xb8%\\x08u\\x8c\\xd9*\\x1d\\xfd\\x0cA)\\xa6\\x92\\xd3\\xce$\\x9eGq\\x8c0m88\\xee\\x949\\x0bp\\x18\\xa8(\\xc2\\xb2\\x80\\x8f[\\xc3\\xb3\\x8cG\\xb9\\xc4b\\x99\\x9fS\\xa2C\\xce\\xc63\\xd4QC:\\x7fx\\xff\\x8cc\\x8ei\\xef\\xf8\\x93\\xed\\x7f\\xe2\\x87\\x86\\xd5$\\x9f\"xON\\xe2\\x97\\xf0.\\x94\\x1f2i9\\xfbE\\xfb\\xd8\\xcd\\xbf\\x0b7\\x0f\\x0bI#\\xa9c\\xde\\x88\\xce\\x959 HU$\\xb7:rt8\\x95\\x94\\xb3PeX\\x08|\\x00\\x8d|\\xb4\\x06\\x1b\\x02\\xa5\\x81\"9W]\\x9a\\x15I~2,\\xff\\x90: \\x19-\\x959\\xc3\\x89{cE\\x13\\xf8\\xd2\\xe1\\xf8\\xb8\\x16\\xe9\\xafb\\xd0\\xb8\\x11\\xda\\x86\\xe2\\x8cHmC\\xbc\\xa9\\x8b\\xfdR\\x19\\xf0@\\xd1\\x19\\xe6\\xed\\x92\\x90>lD\\x94\\xc7\\xc1fa\\xac*\\x06\\x1d\\xc9\\xd6\\xd3\\x19f\\x8f\\xe3\\xcdi\\xb7_v\\x85`k\\x8a\\xb8\\xe1nQ\\xbcFef\\x1e5\\xee/\\x8eM-\\xb8\\xf9U\\xc4X=\\x18\\xc5O>-LL:\\x11\\x1c\\x81\\xa5,+T\\x9c\\x8a8X\\xf95\\x0fR\\xba^(d\\x18\\xfbhg\\xd4\\x9cN3(\\x9b\\xfb\\x9c\\x88M\\x9b_\\x88\\xaa-\\xa1\\x1e3p\\x90\\xe7\\xa2*pxa\\x14\\xd5h5\\xe8\\x8bg\\x158\\xe3\\x082\\x94;\\xea\\x1d\\xd2\\xef|\\xf48y7\\x89iz\\xf7u*\\xe2\\xd6\\x81x\\xe1\\xf5\\x91\\xf82\\x18xHd\\xa4\\xc5\\xbb\\x80\\x18D\\xda)b\\xfe8\\xd9\\xe2/\\xf7z\\xbd\\x9e@\\xe161\\xf4\\xfa\\x9b\\xfe\\xc3\\x03y\\x83\\x86\\x8e\\x84\\xf4>\\xd2\\xdb\\xdb\\x8fD\\'\\xbb\\x89\\xd2GH\\xec\\xb6\\xc5\\x83I\\xfcD\\xf8\\xc6\\xdb\\xf4\\x05g\\x89o\\xe2;0\\xf4\\xd1\\x86\\xd8x\\x98}g4\\xd8\\x7f$\\xec\\xef\\xfb\\xd9#\\xf9\\x95z\\x97\\xa0\\xe8\\xb4\\xdbm\\\\\\xca\\x18-5\\xab\\x08\\xe9\\xa1*\\n\\xbd\\xb6\\xe8\\xe0\\xdf\\xae\\xd8\\x12;b_t\\xb6D\\xb7#\\xb6\\xb6\\xc5\\x0e\\xae\\x1e\\x0bTj\\x12\\xdd\\xad-\\xb1\\xb5\\xb7\\'v;m\\xf1x\\x7f/M.\\x95\\xe8j1\\xead\\xd2W\\xe9\\xfc\\x97\\xa0|\\x86\\x82AH\\xcb\\xea\\xbdP\\xc5Z#\\xf1\\xdc\\x1db\\x05\\xe7 \\x1b\\xbf\\x03\\x04\"\\x0f\\x9er\\xd1\\x06\\xc8\\xe2\\'\\xcf\\x13\\x02\\xb9\\xb1YL\\xd5I\\xa9\\xaaPZA\\x13)\\'\\xc02\\xaaG\\xc2\\xc7\\xac+%D\\xc8\\xe6\\x96\\xa6,\\xc2\\xbb\\xb1\\x95\\x8f\\xe8c*l\\x82\\xe5;\\xe4\\x9c\\x0e(\\x83\\xe4H\\xeb\\xc0>\\x12\\xaa\\x80\\x92y\\x8b^%%\\x84{}\\x0f)Q\\xf4\\xb5*\\x1c\\x8bLy\\x18\\xccHzO\\xd3\\xc4J6\\xbd\\xe3\\x84\\x9c7\\xf6\\x84\\xdci\\x88\\x96\\x9f\\x0c\\x01\\n\\xef\\x80\\xdf\\xd7\\x00[)\\xc0\\x8d\\xde\\x1b\\x1a&G\\xfa\\x94\\x8c\\x07\\xe9\\xfbjD\\x0f\\xfc~4{\\xb2%\\xc54\\n\\x05\\x94\\xa3\\xbc<\\xca\\xef+s\\x08y\\xfc\\xa98\\x14H\\x03\\x91\\x7f\\x91\\xdc`7\\x98c\\x18&\\x1e\\x94\\xf6\\x91\\xf8u\\xe3)*B\\xf86\\xd5\\xc9\\xa0\\x88-\\x97~\\xbc\\xf6\\xa6\\xee\\xc6o\\x92\\x9a\\'A\\xe2|\\xca^\\xe7_\\xcd\\x84\\n-\\xa0&\\x06\\xe9\\x02\\xbeCH\\x92/\\xa9\\xcf$\\x03\\x18\\x1fW\\x11?\\x008~\\x8b\\x7f\\x19\\x80\\xf7\\xef_\\x9f0\\x00\\xa7oN6~K\\xd9\\xb9\\xc07\\x86L\\xe0q\\x12\\xb1\\x90\\x11\\x8c8\\xbe)\\n- \\x11_\\xcfmN \\x10\\xddl\\xa6\\xeflJp\\x1fV\\xc2\\xb5\\t!\\xa1\\x91\\xf3\\xf0\\x91\\xd8\\xec\\xa4\\x18\\xa2\\xab\\xaeF\\xd3C\\r\\xe6!h\\x8d\\xa4\\xd7\\x97\\xb0#\\xcc\\xf8\\x19/wQ\\x03\\xd9\\x16\\xe7\\xa8\\x1c\\x02\\x03Y3$\\xef\\xe2\\x88\\xcdK\\x1fQL(\\xfc\\x0c\\x86\\x08\\xb1\\x8bG\\x98\\xe7H\\x13.4M\\x15\\xc6P&\\x9a*\\x87!\\x13H\\x17\\xbf%B\\xe0fIUq2U\\x04\\x84!VWq*\\x1ea\\xbb*\\x06\\x1e\\xc1W\\xb2\\x9b\\x01\\x94\\x0f\\xaaRp\\xb2\\x16\\xd7\\x9e\\xa40\\x12\\x87Q\\r\\x86\\xf6f\\t\\xa2X\\xa8x\\x19\\x95\\xb3\\x90\\xdd\\xf7\\x13\\x8f\\x8a{\\x83\\x0e\\xb4LY\\x95G!`\\xc3\\x80<\\xdb S\\xc9\\xa4\\xcc\\xe29\\xbe\\xe4;\\x7fJV<\\xf3(\\xd0\\x85\\x82K\\xe31R\\x15\\xbdA\\x8e(;\\xa2%\\xbaUz\\xa1\\xb9\\x93{\\xb7+\\xfe\\xfaW\\xb1U\\xf1\\xf2~\\xbe\\xd9=\\xb4\\x8bH\\x97\\x9c\\xbe1\\xf8\\x865\\x907@\\xa2\\xd8\\x95G\\xd2\\x01\\x01fTp\\x04D% *m\\xf8\\x86\\x94\\xb0(UX;\\xcd\\xdd\\xdc?Z#I\\x89\\xd1A\\xdf\\xb5\\x9d\\xa3\\x07\\xc8\\r\\xdd\\xf5\\x92\\xae\\xeeP\\xd9a\\xc3\\n\\xa2\\x8ac\\x8fh\\xeb\\n\\xb2Q\\xc6\\x1ee,\\x06\\xbb}@\\x94M\\xf2\\x92\\x99(\\x92\\x93\\xc7d.\\x99\\x05\\x8a\\x9et\\xd3\\r\\xbe\\x06\\x06\\x819T`\\x8f\\xed\\x1b\\xaak\\x82\\xbc,\\xdb\\x1b\\x8d)\\xba\\x8b\\xb6K\\x0eX(Q\\xbc\\x07\\xa9?\\x94=a\\xf9\\xf0\\xbd\\x92\\x13\\x8f\\xd4\\xb5U\\xb8\\xfe\\xab\\xba\\xe6n\\xe4\\'-}\\x8b6\\x02\\x89\\xf3\\xa9\\x9e\\tUux\"d\\xe5\\x9d1\\xd2xt\\xfb\\x9b\\x0f\\xf5\\xdb\\x8a\\x85\\xb1jrXP\\xf3\"\\x12\\xaa\\xda`K\\xe5tX\\x0c\\x1aK\\xf5\\xe7\"o\\x92\\xd3{\\xa4\\xebo\\xd8\\x91e[(\\x92\\xccXC\\r9S\\x95*\\xdc\\xa1\\x06\\xf48\\x93\\t\\xa5,\\xdc\\xa4\\xda+\\x7f<u\\x8a\\xdde\\x01R\\x9dQJ\\x83\\xcdfG\\x8e\\xc7\\xa0m\\x90\\xc7\\xcdJ\\x14\\xda`\\xfb\\x91\\xd8}\\x84\\x83\\x00$\\x0f\\xc0J\"\\x81\\x86g\\xca\\xce\\xa4\\t\\x90\\x1f\\x10\\x06\\xd4\\xa705\\x9b\\xcd\\xa6\\xb42\\xf5\\xfb\\xfa\\xcb\\xbf\\xaa\\x97\\xe4+\\xbaU\\xb2E7\\xc82\\xd3\\xafy\\xd1\\x01\\x14\\xa6\\xba\\xaa\\xd2e\\x85\\x0f\\x04\\xcaJ\\xdf![Q|*Q\\xfa\\x0b\\xd8X\\x02\\xb5~\\x1e\\x84\\xc8\\xc7\\t\\x9e8\\xe2\\x84\\xc94\\xe3.\\xa5mH\\x81\\x91\\xfeqE\\xc2qb\\xcaD#\\xc1\\x83\\x95\\x1eXR\\x95(`\\rUPmT\\x03\\xd9\\xbe\\x14\\x0f\\xa6\\x8e\\x1d\\x8d\\x9f(\\xfe\\xf0\\x86\\x05\\x1e\\x02\\xb2\\x0bw\\xd8\\xc4_\\xe4,\\xe4\\xda\\x8f\\xd2\\xdb\\xbaQf\\xf6H\\xd5\\x8e\\'+\\x89\\xf4-\\xd2D\\xa0\\x80\\x1e\\x91FE]1\\x94\\xf5_U\\xb9\\x15\\rP\\xc5\"\\xb9AS\\xd5\\xf2?\\x93rS*M\\xae_\\xc4&#\\xec\\x83\\x8fT&\\xc7\\x85\\xf41\\xccLi\\x056\\x10\\xb1>\\t\\x1e\\x89\\xd3\\x8d\\xa9\\x12\\xa2\\xdf5\\xaaHu\\xf1\\xd5r\\xfd`\\xe8\\xb2S\\xcac\\x87X\\x868\\x1e\\xf1\\x86P\\x9eKQ\\xb0\\x0cl\\xc8\\xa9\\xd3\\x9b\\x1b\\x1f\\x89\\xa6 \\xaa\\xb9.\\x17\\x95\\xac\\xfb\\xe1\\xff|Z\\xd2\\x95\\xaa\\xb9\\xc5\\x97\\xffrO\\xd2p\\xc9 \\x87\\x1b\\xaf\\xbcG\\xe2\\x1f\\xd4\\xe6\\xbf\\x9a\\x95M\\xd2;\\xb2\\t\\xc8<F\\x94\"J\\x80\\xf0%\\x86\\xe3O\\x897\\x00[\\xd8\\xd3\\xd9\\x13q\\x82\\xa2r\\xb4\\x1c~\\x8d\\xbc|,\\x89\\xb5\\xf9H\\xdc(\\x0b\\x869\\xe9\"\\x8e\\xc4\\x17\\xc4\\x11e\\x8f\\xe6\\x19M\\x90\\xf2\\x98Q\\x9bXZ+\\xbe\\xc5~\\xdb\\\\\\xa0b\\xc3\\xe0r2\\x97Z\\xb0\\xafC.\\xb1\\xd0V68\\x15\\xedOu\"\\xa90\\xb2 u\\xd9Z(H\\x08E$\\x0e\\x08\\x04\\xb33\\x8cT\\xe2\\xdf_\\x95\\x95\\x1a\\xbd\\x8fcx\\xc0y\\xee\\xa8\\xd4\\x1bv\\x1f\\xd9\\xdf\\xa8\\xacP\\xdc\\x95\\x90\\xaau\\x9a\\xa0\\xbd@\\xaa\\xe7\\xf7\\x85\\xea%\\x9f\\xdc\\xa5\\xcb\\xab-.\\xe8\\x96\\xd5\\xb12\\xb3YM\\xb5Z\\xf0Ja\\xe9\\xad\\x10\\x0e:\\xe5*\\xbe\\xe9z[[\\xf8\\xd2x\\xc7\\x0e\\r\\x13\\xb2`\\xb3@ML\\xde\\xe2+\\xe6\\xde\\xcb\\t\\xa1S\\th\\x95\\x14\\xcdQ\\xbal\\x8a\\x15:-\\x7f]\\xd4Nc\\x87\\xd2d\\xce\\xf3\\xa1|\\x14T\\x0e\\x8c\\x9e\\xa7\\xd5a9\\xa8\\xb8\\xc7\\xb4%h\\xdd\\xacW\\xc3)>\\xca\\x11T\\xc8+\\xc3\\x1e\\x8f\\xf2\\x94\\xe5+\\xd1p-@74\\xab\\xd9\\x90\\xf7\\x82|n\\xf4\\x05\\xbbO\\x15d\\xea\\xda(\\xfbg:?\\xd8U\\xc9I\\\\\\xcf\\xe4w\\xf8;I\\xa6\\xfe\\x82sr\\xf5*6(\\xe5\\xcb\\xf5Y\\xb5O\\x8e\\xf2\\xd6\\x14\\x10\\xc8\\xf1R\\xb9d\\xb8Y\\xf4Qj\\xb0\\x16(\\x86\\x1eT\\xb8kW|\\xd7\\x04\\x1e\\xa5\\x08i\\x1bZ\\x9e\\xa9B\\xe5\\xe5\\x8a7,+J\\xc2+\\x17g\\x07\\xa8\\xaa\\x11}T\\x87\"\\xa3\\xd0wd\\xd5\\xed\\x03q\\x7f8t\\x86{\\xbbO\\xa0\\xe3P\\xdb\\x1b\\xd7\\xbb\\xbb\\xdbn{\\xfb\\x89\\xe8\\xa3\\xc05\\xf6!\\xf4\\xedv{\\xdb\\xd9\\xb3\\x9f\\x08*\\x05b\\xd9\\x13\\xc8\\xdd\\x03\\x81t\\x02\\x18\\xd5xu\\xb1U\\xfd\\xba\\xfe|8\\x1c\\x92\\xe9\\xeaPQ\\xa7\\x03\\xd1i\\xcfn\\x9e`U\\x19\"\\x84\\xe0@4w\\xdc)\\x1e\\x06\\x88\\x9e\\x04\\xb2\\x0f(\\xf3\\x05C\\xbar\\x9f\\x80\\xcbqX\\xc9\\x81x\\xbc\\xf3_\\xa5\\x9d\\xac\\t\\xba\\x1a\\x11\\n\\x03yI\\x04 \\xd0+3bN\\x13\\x14Q\\xf8\\xe9\\x13\\xd7\\xec\\x97\\x1ecd(+R\\x90\\xe9\\xc8t\\xdcOLI\\xc9\\xe5e,(9\\x99\\xdaW\\x05a\\x96\\xf6\\x94\\xfa|\\x7fDt\\xbb\\\\J\\xe8\\x83m\\x94|H\\xe3\\xc9Q\\xf9\\x85gV Rq\\x9b\\x17\\x0e\\x9c\\xf7\\xcf\\'\\x10!2\\x90\\x04-rmX\\x98Py\\x00)\\x1f\\xe5\\xff\\x17\\xdc\\xdc\\xaa\\x0c\\xbb\\x85\\xdd\\x8bK\\xa1/\\xb8\\xf6Dz\\x85V0[\\x19\\x1d\\xa5\\xc4\\xd2\\xde\\xc5\\xbf%\\xc4\\xb2\\xeb\\xd8X\\xab\\x94\\x12\\x06?\\xd2\\xc2EG\\xe0I:mbYA\\x87-\\xc8\\xa4\\xdeh\\xab\\xb5\\xdfn?\\xdeo?\\xd6y\\xe3*\\xd4\\x01:L\\x11\\xb6E\\xc3G\\x8d0Y\\xee\\xf6\\xa8\\xf1\\t\\xe7\\xe2P\\xe9\\t>1\\xc9\\x87!\\xefr\\x11\\xabs*AA\\xe6\\'cK\\xf6\\xf5\\x9dv\\x92\\xeb\\xe9)\\x97b`X\\x93\\xe5\\xa8^D\\xc5\\x86\\x8b\\xf9\\x1ac\\x8f\\xce\\xdaA\\xb0\\x9b\\xa0\\x807\\x95G\\xa8n\\x95\\xecJh\\x91q8\\xeej\\x1a\\x93\\x9f\\xabC\\x88V\\xcb\\xcf6\\xbaJ\\x93~\\x91\\xaf\\x98\\xe5*\\x8e\\xbb\\xd2\\xd5Kj\\x95<HP&\\x1bP\\x05\\x88\\x16 \\x9215\\x0fV/P\\xebY\\x1dM\\xb8\\x92\\xe0\\x9e\\xe5d\\x06\\x1c\\x1f\\x14o`Mjjt\\xa6A,<3[g&{*\\xe6\\xba\\x16\\x13+{\\x9cG\\x99)\\xf44wC\\xae)r\\xc9\\x1bF\\xcd\\xd3\\x9c\\xe4\\xaf\\xd0\\xc3\\xf4N\\xe5\\xac\\xe8\\x14\\xb1\\x7f\\xf7\\x94\\xe8~\\xd2\\xf9\\xd0)\\x89\\xb0\\xd3\\xba8\\xf7.\\xd5\\xfd\\xea\\x1c\\x002\\xa9\\x19\\x99\\xa8\\xab\\x1bs\\xbd\\x14\\xe9\\x97@\\x11Z\\x0f\\x95m\\xe0W\\xa2\\x85\\xa5n\\x95/\\x88S9\\xfa\\x1c>\\x0c\\x905\\xb0\\x84V_C\\xdfG\\xf1\\x81\\xe14\\xcf\\x92\\xe2Tn\\xa1f\\xab\\xad\\xceV\\x1b\\x1a^\\xc9\\x98\\xadfg\\xab\\xd9^P\\xf2w\\x80p#\\x81\\xea\\xdf\\x8fu3/L\\xe7\\xbf\\xcb\\xc4\\x13\\xcd\\x03\\xb82\\x0eX DJ\\x0c\\x80\\xb4\\xd93\\n\\x87\\x0e\\\\\\x00\\xa8\\x9f\\x19\\x92\\xf1;A\\x85`I\\xa5\\xdaS\\x82y\\xc14q\\xfa\\x0f\\x96\\x89\\xe4;\\xca\\xe6(\\xf0I+\\xb0\\x19\\xca[+)\\x17h\\x81Wp\\xc04z\\x85\\x1bw\\x8f\\x7f.\\xf1\\xa8D\\x12\\x973*\\xdf\\x05e\\xa6\\xf9\"!D\\x1d\\xa5\\xd4.\\x0bCj\\x94\\xbfF\\xda\\x0bo\\x1d\\x01\\xd9l\\xc3\\xe2\\xafR\\\\\\x8a\\xfaX\\xf9\\xc3}\\xa5\\xcd\\x01i\\xf8*1\\x15\\x87s\\xfa\\x1a\\x92j\\x8c\\n\\xe4\\xd4\\xca\\x0f\\xe2\\x1d\\x16\\x01\\xbat\\x12}L\\xbb\\xa5\\xf8\\x9eV\\x8b|L\\x86\\x15&\\xbe\\x00H0h0\\xa1\\x10\\xf6\\xaa\\xb63Lm\\xd2\\x08\\\\\\xbc\\x8cZD\\x11\\xc1\\xc5\\xd9jq\\xe5K\\xb3\\xc8g\\xafp\\xe3V\\xf3\\xa4U\\x8d\\xc9SEaE\\xce\\'5]\\x11L\\xcd\\x95\\xd4\\x0e\\x1df\\x95L\\xf5$St\\xd5r>+\\xb5;\\x8b\\xc0\\xa0\\xa4S\\xd2\\x87\\xeb\\x8b\\x0e\\x1d)\\x02\\xad\\xaf+\\x1f|9EQ0[JQR\\xb0\\xa9p,\\x12\\xa1U\\x00q\\xbf3\\xadMG\\x14x0\\xa5\\x03\\xfa\\xb8n\\x8cYg\\x9a\\x02<\\x08Ye\\xc5\\\\y\\xa3\\x90\"\\xaf\\xa4\\x17\\xa7v\\xbaW\\xc3D\\xa1\\xd4o=\\xfc\\xd4d\\xed\\x00Wz\\x81\\xf7\\xe6\\x0fc\\xec\\xf1\\xd1~\\x10V\\xd1t #\\xd9BV\\xa7muv\\xce\\xbb[\\x07[\\x9d\\x03\\x1co\\x82-\\xebv\\xbb\\xf3}\\xbb\\x8d\\x0b \\xc9\\x0cH@\\xfe\\x18jW+\\xf4\\xf1\\xb7\\xcap\\xe2&\\xe8 \\x9e\\xa9\\x8b\\xb1, v\\xc6[\\xc3Pft\\x98D>\\xde\\x8eZiu\\xda\\x99\\x1a\\xdanci1\\x1b\\xdbV\\xc7\\xf2\"\\xf4vm\\xa5\\x12U&3\\x1b:\\n\\xa7\\xf1A(\\xe3el\\xa4\\x83\\x97\\xf1r&~\\xe5,U\\xc5y\\x98\\xf4\\xb2\\x14\\xb7\\xb5\\xa8k\\xef\\x9fw\\xb6\\x0f\\xb6\\xb7\\x0f:\\xbb\\xb7E]\\x1b\\xbb8U\\xa8C\\x9d\\x14\\xd8\\xc38Ts\\xa6PTS?\\xc9\\xbaH&s6\\x87Q![\\xc7rZ\\x1d\\xc4\\x0elu;8\\xa1\\x89\\x82*\\x7f\\xda\\x12\\xaf\\xb0[\\x81\\xc5\\xdb8\\xc6\\x02\\x88k\\xf7\\x92\\xe9\\x07\\xede\\x04\\x11\\xc3\\xffCD\"\\xb5\\x1bq\\x0b[\\xca\\xe5{\\xdcE\\xd6\\xfbrtn\\x11:oO\\x89u\\xe8,\\x8d:\\xd54x\\x81%\\x97\\xde\\xe2(_f(\\nL\\xd7f\\xb5K\\xb2\\x03\\x04\\xe9\\x90E\\xc0\\x9e\\xab\\xcc\\x88\\xfez\\xa8\\xdc;\\xef\\xec\\x1ft\\x89\\xa9\\xd7\\xe6\\xe666\\xf7\\xaaHr\\x1dn\\xdej\\xa3b)\\x8e\\xe1ER\\x1d\\x97\\xb2p\\x16x\\x18v&\\x0e\\xdc\\xa0w\\x1e\\xeaz\\x17\\xd0\\xd0_\\x89\\xd8\\xba\\xe7\\x9d\\xceA\\xf7qJl\\xdd\\xf5\\x11\\xd5\\xadCTI\\x88\\xf3\\x82\\xc0\\xdb\\xc2\\xe1\\x1c\\x0e\\nV\\x92\\xa9\\x8eJ\\x90\\x088\\x8at<?\\xec\\xf9E|\\xb1\\xc5If\\x8bR\\x82\\xe7\\xfc\\xc9\\x818F0OY\\xa69\\x196\\xe8tGX\\xd8\\xe4\\xa7\\xc81\\xf4aO\\xcbb\\x0f\\x8b\\x9c\\xbc\\xb2\\x90\\xac/\\x84Ut\\x02\\xa6\\x86\\x04{\\xe5J\\xc5E\\x95qD\\x10\\x99\\xab\\xb9\\xbc\\xb1\\xc3\\xf1\\xab+\\x9a\\xb7\\xa5\\xdd\\x16\\x9b\\xff\\x0f\\x9b<t./-AR\\xb3\\xe7\\xc3\\x0c&-Y\\xbf:\\xfa\\xf7\\x8bM\\x1f\\x1dk\\xab\\xbb2\\x921\\xd8\\xea\\x91\\x1d\\xfd\\x99\\xed\\x9e\\xca\\x89\\xd6\\xd4]\\xab\\xdd\\xbb\\x90\\x10;\\x07[d\\x0b\\xad-\\x1a\\xba%\\xa2\\xa1:\\xb6\\xb9\\xb3\\xbf\\xf3\\x18\\x0bp\\xec\\x84a\\xa7\\xfd\\xd2\\xd3\\xdb/S\\x1cm\\x9b\\x14\\n?\\xdd\\x9aO\\xe9\\xc3\\xa5\\xf8X\\xfa\\xc2R\\x84\\xed~-\\x84\\xed\\xb3\\xc7\\xe25\\x9c\\xb90U\\x8e\\xa7t$\\x8bcO\\x0fpf\\x8f\\x1d\\xebj\\x1b\\xd2\\xead\\x81\\x89\\xf2\\xd5? \\x85\\x1b^\\x95,\\xf2\\x88\\xa4#t\\xf3\\x04\\x1e|\\x14\\xa9\\x9e`\\xb1H[c\\xa4\\x8f\\xe0B\\xbdC=\\xb4\\x14\\xabK_\\xa8G\\xfb6\\xd1)\\xdb\\xec\\xeb\\xd3)\\xc2\\x02\\x8a\\xba\\xbe\\x96N\\xb7\\x80\\xf6w\\x838\\xc0bP\\xbc\\x8b&\\xfa0N\\x84\\t\\xff\\xc9hu\\xe7\\x9c1v+\\xa4\\x95,w\\xca\\x13(:{{\\xbbL\\xa7\\xd8\\x92\\x12\\x7f\\x87P\\xb5\\xd9\\x05\\xfd\\'\\xa2\\xad\\xaf\\x84\\xa6\\xadn\\x8a\\xa6\\xe3\\xf7\\xc7\\xcf\\xbe*\\x96V\\xb1`\\xd63U\\xaaL\\x98[\\xec$\\xe4\\xad\\x9cB6\\xe8\\n\\xde\\x9d\\x92\\xa3QR\\xe5gF\\x89\\xaf\\xe0\\xe0a\\rR+\\xaa\\xbe\\xccoX\\x18\\\\j\\xf9\\x9c\\x15s\\xd8\\xbf\\xdc\\xf2)f\\xd5\\xa6\\x19:l\\xf8\\x14:,X@\\xb5\\x18\\xa8}\\x98\\xdb\\x8b0\\xea\\x03\\xe0pE\\xaa\\xa3.\\xf3Lr\\xf7;\\xdd\\xc7\\xa8\\xd8\\xbf\\x04\\xe9p]\\r.\\xb96\\xe6r_R\\xb6\\x1bSD\\xc1\\xef\\xf6\\x14q}\\x81\\x8f\\x83\\r\\xe9\\xc0\\x8f\\t\\xaa\\xf3#\\x8a\\xd5\\x1b\\x92\\xc7\\xd5\\xc2Q|\\xf87\\x9c\\x8d\\xbd\\x81\\x85\\xca#\\xe1\\x9c\\x8b\\xc4\\xa2|s\\xa8\\xd7\\xcc(\\xab7\\x86\\xc7\\xdb\\xe2\\xf0\\x0e|\\x02v>\\x0fd0%\\xda`\\x15l;2\\x89\\x88\"\\xaa^\\xbc:yD\\x07P#\\xb3E\\xd5\\x82\\xa0\\xc8\\x07\\x8aZF\\x1a\\x10\\xafr\\x10l\\xc9\\xf5\\x08)Y\\x88\\xe2\\xd9\\xb1z\\x89]\\x1c\\xfb\\x87m\\xea\\x11\\xf6\\xbc\\'\\xe4\\xa3\\x1f\\\\>\\x12\\xff\\x0b\\xb8\\xd3\\xad),\\x8e8\\xb0\\x8a\\x03\\xc9\\xe0\\xe9\\xc5b\\x87\\xfc\\xf0\\xdc=\\xb5CQ\\x10\\xb4\\xa1/!\\xa0[8E\\xce\\xa8Z\\xda\\xc4I\\x01\\xb4}\\x9a\\x85c\\xd0\\x97\\xd8\\x90\\x19\"\\xf5\\x06\\xc3\\xd1\\xdb\\x02\\xe4\\xbf\\xa6\\xe8g\\xda\\xce\\xc6>6\\x0f]F\\xb6\\xd0\\x8d\\xcd7\\xaf\\x11\\x90m4K\\x1bf\\xe2\\x9a\\x02\\xb8\\xd1u\\xff\\xca\\x0b\\x92\\x08\\x1b\\xb5\\x01\\xe2\\xab\\xc9\\x04\\x91GI\\xf23\\xecWZj\\x1f\\x08\\x18\\xd2\\xbb\\x0fd\\x95H\\x88\\xe0\\xa2.9\\xce\\xc6\\xb4\\t\\x0f\\xc9\\x93\\x99\\x92C=9\\xe2(\\x0cl\\'\\r\\x10\\xaa\\xa5v\\xe6\\x8f\\x1a(VB\\xd7p\\xfc\\r0\\x12\\xbe\\x96\\xdb\\xe6\\xfc\\x93\\xf7\\xe3q\\xa2D\\xbb\\xfd_iP\\x06\\x13\\x9eE\\x89\\xdb5\\xbe\\xe1T\\xe4\\xe0\\x18\\x11g\\xbe\\x9cL\\xe9\\xfd\\xc3\\x18A!\\xe6\\xd0\\xea~\\xaf\\xfc\\xe2a\\xec \\xf3(\\xf3\\xff\\xb6\\xfe\\xfd|\\xc0\\x14\\n\\x03\\x809K\\xbcy\\r\\xdfP\\xc6Z\\xe2U\\xc6Z\\xe2$e-\\xde!QT\\xf8F\\xd1\\x17G\\xe0`V\\x88\\x06\\xf8D\\xc5\\xfe\\x1c\\x16\\xad\\x13\\xba\\x1e\\x95\\xf7\\xf0@?\\xc47OQ\\xa0\\x1b\\xd4\\xf6l\\xec\\xe2\\x08\\x96\\t\\xe5\\xe7\\xbfA\\x80\\x1a\\x92\\n\\xf0\\x81\\x0c\\xba\\x05\\x06VB\\x17,\\xc3\\x15f\\x00o-\\x9fS\\xbcD\\xb4V\\xdf\\xaf\\xd2\\x9a\\xb5\\xd3\\\\\\t\\xf8Ws4\\x98|\\xbd\\xa2\\xbf!\\'\\xf7WT\\xb4_\\xa6J\\xa5\\x9b.\\xf3\\x1d\\xa4\\xfb\\xf2DW\\x0f(}\\xd0\\x9b\\xe1\\x14&\\xb5-\\xb7d\\x8bD\\x15%\\xa6j\\xcfy=i\\xd6{\\xce+\\xc9\\xbf\\xdc\\xc3\\xaegq\\xa3\\xe3/<y\\xb4\\x949\\xec\\xf7p6\\xb2\\xf6Y\\xc9\\x00\\xce~\\x0f\\xb1\\xd1\\xa9\\x9c0w\\x1eb\\x1b\\xdbX\\xfa\\xa4\\xd7,z\\x05\\xb7\\xcd(\\x12y\\xf2m\\xd3\\xb9@\\x80o\\x80@\\x86\\x0b\\xc4n\\xa9#C\\x9f\\xf3=b\\x1b\\x84\\xe0gg\\x95\\x94~?\\x9bc\\xa37\\xd2\\xdfs:>\\xcc\\xf7\\xd0\\x9ez\\xec\\x99\\xaco\\xa0\\x1f\\xc4\\xf1\\xc4\\xc5Q\\xa5t t\\xef)_-\\xff\\nQ\\xf4>t#\\x1dO\\xca\\xdf\\x9d\\xcb\\xeb\\xf4\\xc3\\xac\\xec=\\xc68\\xc4\\xd6\\xedes\\x16\\x0c\\x82@\\x9d\\xff\\xa7\"\\x92\\x08\\x1d\\xbd\\x17\\xf4ty\\x8ft\\x164\\xba\\xeb\\xa6\\x87\\xaa\\xca\\x0b\\xb9,Q1\\xaa\\x98\\xa6\\xdc\\x84\\xbd\\xfcpz\\xf7\\x13V\\x96U}~\\xc9\\xb9\\x1a\\x8d^,\\x7f,\\x19N\\x9a\\x9d=\\xf2\\x11\\xc0\\xcd8y/g?j\\xbd\\x9f\\xbf|\\xd7\\'B\\xa09T?\\x974\\xa7\\xc8(\\x84\\xbd\\x11\"\\r\\xfa\\x92L\\x92\\x84\\xb2\\xb9AK\\xcd\\xe4\\xb2\\xa5\\x8f\\xae\\xc0V\\xcc\\xe7\\xb8\\xc5\\xde\\x04j\\xfc\\'\\xae\\xadRC\\x1d)\\x98\\x9f\\xe3&\\n\\xa6\\xbe\\x9f\\x9fQ\\xc9R|I\\x7fW\\xf8\\xf6\\xd2\\xbbb\\xb2\\x029\\xfe\\x1d?\\x97|\\xa1Fq}#\\x05\\x81\\xfa\\xf0\\xfaFj\\x94%\\x1fsQa\\xe8\\x9a\\xd9\\x1c\\xb1\\rM\\n\\x07\\x85\\x11\\xc4\\xe1\\t\\x00\\xdc\\xf5q\\xda\\x18\\xb9\\xab\\x01\\xc8s\\xbc\\x04\\xbc&\\xaa(Z\\x05\\xe1d\\x95qX?\\xbd\\xa5\\x8c=J\\x89Z\\x91\\xe1!H\\x96\\xb0,\\n\\xf2h\\x96C_\\xefW\\xc0\\r\\xa2\\xb0\\x91M\\x80\\xed^\\xca\\x8eS\\xc8y\\xcf\\xf7R\\xd4\\xe4\\x98\\x0e\\xed\\xd3&&\\xb3\\xa7\\x16\\x96\\xcco\\xa7\\x19B\\xd3\\xe0\\xee\"\\xe3\\x94\\x17\\xe2Yq\\xf4ucg\\x03\\x14\"\\xa7\\x89\"!\\x98\\x8d\\xa7\\xear\\xc9\\xecbr\\xe9\\xe8\\xf3\\xa6\\x8b\\xd8\\xb4kX\\x08j\\xf8\\xe7\\xb8\\xb7\\xfcK\\x0e\\x1dMfMi\\xa3B\\x97\\x8c\\\\\\xd5\\xfb\\xcf\\xf2\\t5Q\\x8d\\t\\x8e>\\x16\\xc7\\x0e\\xfc\\xd8\\x88n\\x90\\xb6\\xf8\\xca\\x84P\\x87\\n\\x12h8D\\x91\\xd2\\x95I\\xe6\\xa3,\\xb1\\xbcX2\"\\xa2\\xf4\\x08\\x85\\xab\\xb5\\xb8\\xf7\\xc0\\xcbg\\xb8^\\xe13\\xea\\x91\\xccu^\\x85H\\xb9\\xfd\\x0e\\x97\\x08f\\x1b,\\x13\\xc0\\xd4\\xeb\\r\\xa8)\\x1a7z\\xf8\\x1b\\x8d\\x17\\x91\\xb6\\x8aK\"=\\xb1\\x03\\r\\xa9\\xe8\\x8c\\x85P\\xe7T\\x9fVD\\xc8U9*\\x8a6\\x98i\\xc1\\xa0\\xbaP\\xe6w(\\xb5\\xc7ro3\\xe7XX\\xb4\\x01\\xb75\\x16^yCUqHJ3\\x99V\\x02\\xe6\\x90\\x8a5p\\x8d\\x05\\xfd\\x9f\\xa2D#\\x06\\x8eO\\x0b\\xd6Q\\x04%\\x85\\x90h*(1C\\x07,\\x9dc\\xf97\\xf5d\\xda\\x1f\\x16\\x8d\\xb4\\x1aTVy\\xc9\\xc7\\x14\\x87\\x80\\xf5\\x1cA\\x825\\x11\\xe7ha\\xc9J\\x89*\\x90{\\xb6s%#s\\xb3&\\xccpK\\x1d\\xe8/_\\xa6\\xb5&2\\xaeQa\\x94\\xbf\\xc5\\xea\\x93\\xdc\\xd3\\x14\\xc1O\\x10\\xd0\\xa9e\\x94\\x84;\\xc4\\x92\\x99jN 7\\x89_\\xa3\\x15.L\\tZ\\xe1r\\x92\\x95\\x8a\\x80\\xa2\\x17\\x15\\xd0\\xbaG\\xda\\\\\\xac\\x0b\\xf9\\x97h\\x92!\\xff\\x14\\x02@h\\xe13\\xe7)\\x98-\\r\\xc7G\\x82\\xf0%\\x9d\\xd3\\x19A\\x91\\xa9\\x19IE\\xb5>\\x89QU\\xc0\\xa0B.QK\\x9e\\x83\\x1a\\x8d=T\\xb6\\xe9=u\\x01!\\x85,\\xbf\\xe1\\xd3Q%\\xe6\\xd9B\\xacj\\x84\\xa0\\xe2\\xe3P)\\xd0\\x91\\xf4\\x0f\\x9f\\x85J(\\xe7y\\x91G;sZ\\xcd\\xe2BCSz\\x89?\\x0cT\"\\xe3\\xfcK\\x1c-\\x0bd\\xb9\\xe8\\x8b)y%w\\xab\\xb82\\xa1\\x04\\x02\\xec8\\xc0\\x7fN[\\xa0y\\x0eMyZ\\x1f\\xb4.8m\\x82\\xb76\\xa5\\x05\\x9c\\xdf7\\xe5\\xf7_\\x04 3\\x8a\\xd6u\\x90\\xc3\\xc6uZ\\xc9i(\\xd3\\x17s}d\\x9d\\r\\xe5\\'\\\\\\xd8D\\x9d\\xef\\x9a*6>\\x9dG\\xbe\\xa0s\\x1c\\x14\\x0ct6Ha\\x91\\x9f\\xdb\\x90\\xcd>\\xe4\\x83\\xba\\x102\\xb5\\x80\\x1b\\xf3\\xfd\\x14\\x11U\\x1e\\xae\\x85\\xaf\\x15u\\x10\\xd8\\x14Zn\\xa1\\x8a\\x0c\\xcem\\xa6#\\t\\x95\\x11\\xbcx\\xae\\xb3\\xd4\\xdc\\xe9\\xa9\\xf1\\xab\\x85Q\\xcbC\\xde\\x97\\x1d\\xdd\\xfc\\x14 \\x10\\xf1\\x9d\\x07\\xbcG\\xb7H\\x19\\x04n\\xfe\\x9c\\x1e\\xf2\\xf3\\xd93\\xa4\\xa1]y#\\xe9\\x89\\xa2\\xb25\\xf9c\\x85\\x8d\\x93\\xaf\\xa4K\\xd0\\xc4\\x137\\xc9hX8\\x88.=\\x7f\\xc8@{\\xe6\\xee\\xd3\\x07\\r\\xdd\\xfa\\\\!9\\x97\\x19\\tU\\x1e\\xe4S[z\\xf6\\xdb\\xc1A\\xa3o\\x07\\x07-\\x16\\xae\\x92$\\x9d\\x16(ZB\\xe1\\xddR\\n\\xcf\\xc2\\xdbq\\x1e\\xbd\\x0e\\xb2\\xbfM\\xb5\\xb9\\xbb\\xa1t\\x13\\x9c\\xec\\xb4\\x8co\\x07\\xfb(\\x85W\\x94_\\xd9A`u\\xb5\\x1b\\x8d\\xf3\\x8b\\xbe\\x1d\\xec\\x93R\\xd5\\x9f\\xff`\\x9f\"5t\\xd2\\xe3\\x86\\xcdC\\xba3m\\xc6)\\xa9\\xc4\\xe5_v&\\xcf]q\\xfa\\xb7Cw\\x1ad\\xcf\\xcb\\xd3x\\xbe\\xec\\xa8\\x9b:\\xeeOsg\\xbe\\x1d\\xba\\xb3x\\x18\\xd2\\xb7Cw\\xe8H(\\xb9\\xce\\xfd\\x93\\x1f\\xbaS-\\r)\\x18@)P\\xc3\\xa9\\x91\\xae\\xf4I&>3\\xeb\\x02\\xa7/\\xe7\\x96R\\x95g\\x87\\xde\\x8d<\\xcc\\xc0\\x91\\xce\\x89o\\x87\\xe2\\xa4\\xab\\xb6\\xb2\\x95\\xdb\\x8a\\x96O\\x86U\\xb8]\\xbf\\x1d\\x8a\\xe3ak\\xed\\x08ZG9\\xb6\\xb0\\xbd\\xfe\\xedP\\x1cU\\xd7v\\x855\\xfa\\xb7Cq\\\\\\x0e\\xb92\\xe2@2\\xfe\\xfav(\\x8ed-\\xce`\\xfa\\x82Cq\\xaa\\xd5\\x18\\xf2\\xd1J\\xd4X1\\x12\\'\\r6X\\x08\\x0c\\\\\\x88\\x08\\\\\\xfb(\\x88\\xbb\\xd1tE\\x88\\xbf\\x1d[\\xc3\\x87\\xf6|;\\xb6\\x06\\xa7K\\xa5\\xb4\\xf0\\xed\\xd8\\x1a\\x13\\x1b:~\\xe2\\xdf{lM\\xb5\\xe8\\xd9-\\x15=\\x85C[\\xb2\\x936\\xaa\\xce\\xa2\\xe1\\xc38\\xd8\\xeb\\xaf\\xcd\\xf1\\xafia\\x17\\xc0U6\\xd0\\xb73fBwx\\xd4\\xf8v\\xc6L\\xa1\\xbc\\x01\\xc2\\r\\x90\\xe3\\xf4\\x95\\xcf\\x98\\xa9\\xe6\\xc0\\xbdR\\x0e\\xe4\\xfcM\\xca@\\xec\\xe9\\xfc\\xc6\\xff\\x10o)@\\xd4\\xbea\\nV\\xealU\\xcc\\x96A\\xf9\\xed\\x18\\x98o\\xc7\\xc0 \\xc4E\\x12\\xc4\\xd7:\\x06\\xa6\\x9a\\xbd\\xf6K\\xd9\\x0b%\\r\\xa4s\\x08\\x01\\x8b\\x1eb3T\\x18\\xf9\\x7fB{}]/n\\xdd\\xd9\\x8f\\x1a\\x92\\x11\\xaa\\xd9&}\\x0e\\x16\\x96l\\xdf\\x1a\\xa8\\xbf\\x88\\xfcI\\\\\\xf3|\\xd4S\\xba!(X\\xeeR\\x86\\xac\\xac\\xc5\\xfdu\\'0i`\\xa8\\xe8G\\xee\\xa4{\\\\\\xa3\\xfe>\\xf6F#\\xcc\\xda00j\\xe1\\x19\\xe7\\n)q\\x85iVU\\xab\\xcd\"\\n+8\\x04\\xea\\xdc\\xee\\x08\\x06\\xbd\\xc2I\\x07!\\x95\\xcfA\\xc2L(\\xe3w\\xcc3c\\x913\\xf5&}$\\xa3\\xd9t\\xf1\\x95\\x15\\xfa\\xae;\\x7f\\x89\\xfbFxN\\x82Z\\xfa\\xb9\\xa3\\xb5\\xe5\\xf9\\xcb\\x88\\x1e:S\\x0f\\x05OM\\xa1\\xf3%G\\xb7\\xaa\\xc79\\xd3\\xcdp\\xaf\\x16\\xe3L@K\\x7f\\x848\\x13\\r\\xa1\\xf9w1\\xf8d\\xb5\\xb0#vHrp\\xa0<\\xea\\t5\\x07D\\xd3\\x88\\x00\\x92\\x81<\\x8b\\xc5\\x1ar)\\r\\x14A\\xd4G\\x81\\x0fC\\xf2\\xa4X4r\\x0c\\x8bq,\\xc5q\\x94OC\\x96E c\\x92\\x14D+\\x87\\xd0d\\x16z\\xb1\\xbfj\\x19\\xda1\\x1dC2d\\x059\\x13\\x14\\xb4\\x86\\x14\\xfd\\x99*\\xba\\\\]\\x1d\\xe9%U\\x9d\\xb4\\xf5\\tM\\\\\\x8e\\x16\\xe9cy\\xd2,\\x02\\xc3\\x13Q\\x19\\xd3\\x83\\x88\\x87l\\xf3\\xb3\\xd4\\xbf\\xde{\\xce\\x81\\x80\\x94\\xc3^\\r\\xd8)\\n\\xa2y\\\\[\\x15k\\x17\\x15\\xae\\xbd\\xac\\xdaJ5P\\xd8\\x9aM\\x81\\xaa\\x16\\xa5R29\\x01\\x04\\xc7\\xa8\\xa5\\xe4)\\x8e%\\xa6C\\xd2\\x04\\x92@(\\xfcL<M8\\xa9\\xa9\\xbe\\xc6P5 \\xe6\\xaeH)^\\x8b\\xc5\\xbe\\x10\\xb4\\x1b\\'fY7\\xcc,\"wq/\\x8f<%U\\xe5\\xebHDt\\xa8\\xd8.r\\x1eq\\xa2\\x90\\x9dL\\xd4\\xc9`\\x15/\\xa5\\xc97\\xb9Ub\\x11\\xbc\\xea!\\x97\\x1c\\xceU\\xceT\\xb3yH\\x05\\x9dJ\\x98/}\\x1f\\xf9n\\\\\\x91\\xb4\\x9a\\x17\\x98\\xfc\\xf2\\xe1\\xb4`\\xe7g\\x81j\\\\<\\x18\\xe0\\xe7\\x93.\\x8a\\x83q\\x8d)]\\xca\\xbc\\x94eu\\xb7\\xaa\\xdc\\xecB\\xab\\x19%S(1V&\\x94E\\xb94*W\\x97i-b\\xd0\\xbc^\\xde\\xa3d\\xe6\\x89;\\xc2AQT\\xd3\\x1a\\x7f)\\x1eK\\x1d@ \\x89\\x90\\x19\\xe3\\xcbF\\xa6\\xd9a\\x16 F\\x16\\x05*L\\x85.\\xe9E%\\xaaxW\\xf6`n\\xbdE!\\xe7\\x81K(@\\xde\\tn\\x08ycUp(\\nt\\xf9\\xd0\\xf3\\x87\\xa0\\xc3\\x94\\x08Q\\x04RUgG\\xcf\\xc8?\"o/r\\n\\xa9TX\\xba\\x8b\\x88\\x83S\\xcc\\x17\\r\\x90\\xcc\\xe8\\xd5\\xe2\\xa4`\\xb2\\x98\\xdeJCq\\x99\\xd6j\\x03\\xd2\\xb3\\xd0\\xf6\\xf2`\\xd9\\xac\\x05#\\x08^k\\xa1B\\x84lK\\xaa\\r\\xc3Q\\xc3S[P\\x8f\\xf7\\xe3 Ar\\xb1}\\xb5\\x18g+_\\x8f\\x06\\xa17CNq88j\\xb4Z\\xf6\\x85}\\xd3\\x1c\\x05\\xc1\\x08\\xe9\\xce3/b\\xd3\\x91\\xee\\xc1J\\xebG\\xad\\x8b\\xcf\\tJ%\\xb6:\\xcd\\xfdfW]4\\x91\\xf2\\xd0\\xbc\\x90E\\x0c\\xb9%\\t\\xcf\\xa1l\\xb6\\x87Z\\xcd\\x88\\x17k^\\xfcD\\x1f\\x8a\\x7f\\xfe\\x13\\x11\\xa12\\xb2\\xa5y\\r\\xc3\\xc7\\xdd\\xdcP/\\xaa\\xfeI \\xe1\\xf8\\xe9\\x8b\\xc8\\xec\\xcf\\xe2\\xfe\\xb2\\x8e\\xfe\\xaf\\xa5\\x1a\\xdf\\xa0\\x13\\x1a\\x16;]g,\\x89\\x87\\xd1t\\xba\\xcd\\x8e\\x1a\\x8e\\x85\\xc4\\xa0\\xaf0\\xa2\\xc4\\xc3\\xa0\\xa8\\xdb%\\xa3*\\x99\\xa2\\x02\\x8a\\xa6v\\x14\\xf8\\xe1\\xbc9\\xbb\\x1c9\\xf5\\x90\\x97\\xa3\\x98\\x0e\\x92\\x83\\x02\\x18L\\x12\\x14{-Ld\\xaew:j\\xeb\\xa8AU\\xd2[\\x17(^(\\xf1\\x8e\\xfa\\xebL7\\x19Plb\\x11\\x06\\x87;\\xdb\\xfb{8\\xd8p\\xb8\\x87\\xfah \\x10*\\xe0\\x8dx\\xfe\\xf8\\xa8\\x91\\xc4C\\x0b\\x8b\\xb9\\xfc\\xdcI;\\x8f\\xa8\\xfeWo(&\\xd0\\x9d\\xa7\\'b\\xef\\xb7\\x1c5\\xf1q_+\\xc00\\x9b$\\x88\\xd8\\x89Z\\xa7\\'\\xfb\\x0c\\xca\\xbe=\\xdcu\\xbb\\xbb\\x83={\\xab\\xbf\\n(\\xc4Fr\\xec\\xdf\\xfd\\n\\xbb\\xd1\\x1b\\xfe\\x96\\xd6\\xf4*\\x00\\xb8\\xffe\\x00\\xa2d4\\xe4\\x11\\xd2\\xf0\\\\\\xe7,\\x9eO\\xb0\\x0e\\x01\\xb4\\xcev\\xc7\\xd9\\x1f8\\x8f\\xf7\\x87\\xa8\\x16\\xb8\\x02\\xe2j\\xa0\\x95H\\xe5\\xa1 4\\xa2%\\xd3\\x99\\x91\\x03\\x829\\xef\\xdd\\xfb\\x7f\\rOw\\xfb\\xfa\\xc8\\x00\\x00'\n"
     ]
    }
   ],
   "source": [
    "# Imprimindo html\n",
    "print(html)"
   ]
  },
  {
   "cell_type": "markdown",
   "metadata": {},
   "source": [
    "# Fim"
   ]
  },
  {
   "cell_type": "markdown",
   "metadata": {
    "collapsed": true
   },
   "source": [
    "### Obrigado\n",
    "\n",
    "### Visite o Blog da Data Science Academy - <a href=\"http://blog.dsacademy.com.br\">Blog DSA</a>"
   ]
  }
 ],
 "metadata": {
  "kernelspec": {
   "display_name": "Python 3",
   "language": "python",
   "name": "python3"
  },
  "language_info": {
   "codemirror_mode": {
    "name": "ipython",
    "version": 3
   },
   "file_extension": ".py",
   "mimetype": "text/x-python",
   "name": "python",
   "nbconvert_exporter": "python",
   "pygments_lexer": "ipython3",
   "version": "3.12.6"
  }
 },
 "nbformat": 4,
 "nbformat_minor": 1
}
